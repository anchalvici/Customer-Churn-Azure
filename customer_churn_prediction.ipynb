{
  "cells": [
    {
      "cell_type": "markdown",
      "id": "63909d9c",
      "metadata": {
        "id": "63909d9c"
      },
      "source": [
        "# Install the required libraries"
      ]
    },
    {
      "cell_type": "code",
      "execution_count": null,
      "id": "39e4d3d1",
      "metadata": {
        "id": "39e4d3d1",
        "outputId": "e5dd1912-bd8b-4c11-b8ef-53687aab3b3b"
      },
      "outputs": [
        {
          "name": "stdout",
          "output_type": "stream",
          "text": [
            "Requirement already satisfied: azureml-core in /anaconda/envs/azureml_py38/lib/python3.8/site-packages (1.51.0)\n",
            "Requirement already satisfied: urllib3<2.0.0,>=1.23 in /anaconda/envs/azureml_py38/lib/python3.8/site-packages (from azureml-core) (1.26.16)\n",
            "Requirement already satisfied: pathspec<1.0.0 in /anaconda/envs/azureml_py38/lib/python3.8/site-packages (from azureml-core) (0.11.1)\n",
            "Requirement already satisfied: jmespath<2.0.0 in /anaconda/envs/azureml_py38/lib/python3.8/site-packages (from azureml-core) (0.10.0)\n",
            "Requirement already satisfied: pkginfo in /anaconda/envs/azureml_py38/lib/python3.8/site-packages (from azureml-core) (1.9.6)\n",
            "Requirement already satisfied: PyJWT<3.0.0 in /anaconda/envs/azureml_py38/lib/python3.8/site-packages (from azureml-core) (2.4.0)\n",
            "Requirement already satisfied: adal<=1.2.7,>=1.2.0 in /anaconda/envs/azureml_py38/lib/python3.8/site-packages (from azureml-core) (1.2.7)\n",
            "Requirement already satisfied: pytz in /anaconda/envs/azureml_py38/lib/python3.8/site-packages (from azureml-core) (2022.5)\n",
            "Requirement already satisfied: azure-common<2.0.0,>=1.1.12 in /anaconda/envs/azureml_py38/lib/python3.8/site-packages (from azureml-core) (1.1.28)\n",
            "Requirement already satisfied: msal<2.0.0,>=1.15.0 in /anaconda/envs/azureml_py38/lib/python3.8/site-packages (from azureml-core) (1.22.0)\n",
            "Requirement already satisfied: humanfriendly<11.0,>=4.7 in /anaconda/envs/azureml_py38/lib/python3.8/site-packages (from azureml-core) (10.0)\n",
            "Requirement already satisfied: cryptography!=1.9,!=2.0.*,!=2.1.*,!=2.2.*,<41 in /anaconda/envs/azureml_py38/lib/python3.8/site-packages (from azureml-core) (38.0.4)\n",
            "Requirement already satisfied: python-dateutil<3.0.0,>=2.7.3 in /anaconda/envs/azureml_py38/lib/python3.8/site-packages (from azureml-core) (2.8.2)\n",
            "Requirement already satisfied: azure-mgmt-resource<=22.0.0,>=15.0.0 in /anaconda/envs/azureml_py38/lib/python3.8/site-packages (from azureml-core) (21.1.0b1)\n",
            "Requirement already satisfied: msrestazure<=0.6.4,>=0.4.33 in /anaconda/envs/azureml_py38/lib/python3.8/site-packages (from azureml-core) (0.6.4)\n",
            "Requirement already satisfied: azure-mgmt-containerregistry<11,>=8.2.0 in /anaconda/envs/azureml_py38/lib/python3.8/site-packages (from azureml-core) (10.1.0)\n",
            "Requirement already satisfied: azure-mgmt-keyvault<11.0.0,>=0.40.0 in /anaconda/envs/azureml_py38/lib/python3.8/site-packages (from azureml-core) (10.2.1)\n",
            "Requirement already satisfied: ndg-httpsclient<=0.5.1 in /anaconda/envs/azureml_py38/lib/python3.8/site-packages (from azureml-core) (0.5.1)\n",
            "Requirement already satisfied: contextlib2<22.0.0 in /anaconda/envs/azureml_py38/lib/python3.8/site-packages (from azureml-core) (21.6.0)\n",
            "Requirement already satisfied: pyopenssl<24.0.0 in /anaconda/envs/azureml_py38/lib/python3.8/site-packages (from azureml-core) (23.0.0)\n",
            "Requirement already satisfied: azure-core<2.0.0 in /anaconda/envs/azureml_py38/lib/python3.8/site-packages (from azureml-core) (1.26.4)\n",
            "Requirement already satisfied: knack~=0.10.0 in /anaconda/envs/azureml_py38/lib/python3.8/site-packages (from azureml-core) (0.10.1)\n",
            "Requirement already satisfied: argcomplete<3 in /anaconda/envs/azureml_py38/lib/python3.8/site-packages (from azureml-core) (2.1.2)\n",
            "Requirement already satisfied: SecretStorage<4.0.0 in /anaconda/envs/azureml_py38/lib/python3.8/site-packages (from azureml-core) (3.3.3)\n",
            "Requirement already satisfied: msrest<=0.7.1,>=0.5.1 in /anaconda/envs/azureml_py38/lib/python3.8/site-packages (from azureml-core) (0.7.1)\n",
            "Requirement already satisfied: jsonpickle<4.0.0 in /anaconda/envs/azureml_py38/lib/python3.8/site-packages (from azureml-core) (3.0.1)\n",
            "Requirement already satisfied: docker<7.0.0 in /anaconda/envs/azureml_py38/lib/python3.8/site-packages (from azureml-core) (6.1.2)\n",
            "Requirement already satisfied: azure-mgmt-storage<=21.0.0,>=16.0.0 in /anaconda/envs/azureml_py38/lib/python3.8/site-packages (from azureml-core) (21.0.0)\n",
            "Requirement already satisfied: backports.tempfile in /anaconda/envs/azureml_py38/lib/python3.8/site-packages (from azureml-core) (1.0)\n",
            "Requirement already satisfied: requests[socks]<3.0.0,>=2.19.1 in /anaconda/envs/azureml_py38/lib/python3.8/site-packages (from azureml-core) (2.31.0)\n",
            "Requirement already satisfied: azure-graphrbac<1.0.0,>=0.40.0 in /anaconda/envs/azureml_py38/lib/python3.8/site-packages (from azureml-core) (0.60.0)\n",
            "Requirement already satisfied: packaging<=23.0,>=20.0 in /anaconda/envs/azureml_py38/lib/python3.8/site-packages (from azureml-core) (23.0)\n",
            "Requirement already satisfied: azure-mgmt-authorization<4,>=0.40.0 in /anaconda/envs/azureml_py38/lib/python3.8/site-packages (from azureml-core) (3.0.0)\n",
            "Requirement already satisfied: paramiko<4.0.0,>=2.0.8 in /anaconda/envs/azureml_py38/lib/python3.8/site-packages (from azureml-core) (3.1.0)\n",
            "Requirement already satisfied: msal-extensions<=1.0.0,>=0.3.0 in /anaconda/envs/azureml_py38/lib/python3.8/site-packages (from azureml-core) (1.0.0)\n",
            "Requirement already satisfied: cffi>=1.12 in /anaconda/envs/azureml_py38/lib/python3.8/site-packages (from cryptography!=1.9,!=2.0.*,!=2.1.*,!=2.2.*,<41->azureml-core) (1.15.1)\n",
            "Requirement already satisfied: six>=1.5 in /anaconda/envs/azureml_py38/lib/python3.8/site-packages (from python-dateutil<3.0.0,>=2.7.3->azureml-core) (1.16.0)\n",
            "Requirement already satisfied: azure-mgmt-core<2.0.0,>=1.3.0 in /anaconda/envs/azureml_py38/lib/python3.8/site-packages (from azure-mgmt-resource<=22.0.0,>=15.0.0->azureml-core) (1.4.0)\n",
            "Requirement already satisfied: isodate<1.0.0,>=0.6.1 in /anaconda/envs/azureml_py38/lib/python3.8/site-packages (from azure-mgmt-keyvault<11.0.0,>=0.40.0->azureml-core) (0.6.1)\n",
            "Requirement already satisfied: pyasn1>=0.1.1 in /anaconda/envs/azureml_py38/lib/python3.8/site-packages (from ndg-httpsclient<=0.5.1->azureml-core) (0.5.0)\n",
            "Requirement already satisfied: typing-extensions>=4.3.0 in /anaconda/envs/azureml_py38/lib/python3.8/site-packages (from azure-core<2.0.0->azureml-core) (4.6.0)\n",
            "Requirement already satisfied: tabulate in /anaconda/envs/azureml_py38/lib/python3.8/site-packages (from knack~=0.10.0->azureml-core) (0.9.0)\n",
            "Requirement already satisfied: pyyaml in /anaconda/envs/azureml_py38/lib/python3.8/site-packages (from knack~=0.10.0->azureml-core) (6.0)\n",
            "Requirement already satisfied: pygments in /anaconda/envs/azureml_py38/lib/python3.8/site-packages (from knack~=0.10.0->azureml-core) (2.15.1)\n",
            "Requirement already satisfied: jeepney>=0.6 in /anaconda/envs/azureml_py38/lib/python3.8/site-packages (from SecretStorage<4.0.0->azureml-core) (0.8.0)\n",
            "Requirement already satisfied: certifi>=2017.4.17 in /anaconda/envs/azureml_py38/lib/python3.8/site-packages (from msrest<=0.7.1,>=0.5.1->azureml-core) (2022.9.24)\n",
            "Requirement already satisfied: requests-oauthlib>=0.5.0 in /anaconda/envs/azureml_py38/lib/python3.8/site-packages (from msrest<=0.7.1,>=0.5.1->azureml-core) (1.3.1)\n",
            "Requirement already satisfied: websocket-client>=0.32.0 in /anaconda/envs/azureml_py38/lib/python3.8/site-packages (from docker<7.0.0->azureml-core) (1.3.3)\n",
            "Requirement already satisfied: backports.weakref in /anaconda/envs/azureml_py38/lib/python3.8/site-packages (from backports.tempfile->azureml-core) (1.0.post1)\n",
            "Requirement already satisfied: idna<4,>=2.5 in /anaconda/envs/azureml_py38/lib/python3.8/site-packages (from requests[socks]<3.0.0,>=2.19.1->azureml-core) (3.4)\n",
            "Requirement already satisfied: charset-normalizer<4,>=2 in /anaconda/envs/azureml_py38/lib/python3.8/site-packages (from requests[socks]<3.0.0,>=2.19.1->azureml-core) (3.1.0)\n",
            "Requirement already satisfied: PySocks!=1.5.7,>=1.5.6; extra == \"socks\" in /anaconda/envs/azureml_py38/lib/python3.8/site-packages (from requests[socks]<3.0.0,>=2.19.1->azureml-core) (1.7.1)\n",
            "Requirement already satisfied: pynacl>=1.5 in /anaconda/envs/azureml_py38/lib/python3.8/site-packages (from paramiko<4.0.0,>=2.0.8->azureml-core) (1.5.0)\n",
            "Requirement already satisfied: bcrypt>=3.2 in /anaconda/envs/azureml_py38/lib/python3.8/site-packages (from paramiko<4.0.0,>=2.0.8->azureml-core) (4.0.1)\n",
            "Requirement already satisfied: portalocker<3,>=1.0; python_version >= \"3.5\" and platform_system != \"Windows\" in /anaconda/envs/azureml_py38/lib/python3.8/site-packages (from msal-extensions<=1.0.0,>=0.3.0->azureml-core) (2.7.0)\n",
            "Requirement already satisfied: pycparser in /anaconda/envs/azureml_py38/lib/python3.8/site-packages (from cffi>=1.12->cryptography!=1.9,!=2.0.*,!=2.1.*,!=2.2.*,<41->azureml-core) (2.21)\n",
            "Requirement already satisfied: oauthlib>=3.0.0 in /anaconda/envs/azureml_py38/lib/python3.8/site-packages (from requests-oauthlib>=0.5.0->msrest<=0.7.1,>=0.5.1->azureml-core) (3.2.2)\n",
            "Requirement already satisfied: mltable in /anaconda/envs/azureml_py38/lib/python3.8/site-packages (1.6.1)\n",
            "Requirement already satisfied: msrest>=0.6.18 in /anaconda/envs/azureml_py38/lib/python3.8/site-packages (from mltable) (0.7.1)\n",
            "Requirement already satisfied: pyyaml<7.0.0,>=5.1.0 in /anaconda/envs/azureml_py38/lib/python3.8/site-packages (from mltable) (6.0)\n",
            "Requirement already satisfied: azure-core!=1.22.0,<2.0.0,>=1.8.0 in /anaconda/envs/azureml_py38/lib/python3.8/site-packages (from mltable) (1.26.4)\n",
            "Requirement already satisfied: azure-mgmt-core<2.0.0,>=1.3.0 in /anaconda/envs/azureml_py38/lib/python3.8/site-packages (from mltable) (1.4.0)\n",
            "Requirement already satisfied: cryptography!=1.9,!=2.0.*,!=2.1.*,!=2.2.* in /anaconda/envs/azureml_py38/lib/python3.8/site-packages (from mltable) (38.0.4)\n",
            "Requirement already satisfied: PyJWT<3.0.0 in /anaconda/envs/azureml_py38/lib/python3.8/site-packages (from mltable) (2.4.0)\n",
            "Requirement already satisfied: azureml-dataprep[parquet]<5.2.0a,>=5.1.0a in /anaconda/envs/azureml_py38/lib/python3.8/site-packages (from mltable) (5.1.6)\n",
            "Requirement already satisfied: pytz in /anaconda/envs/azureml_py38/lib/python3.8/site-packages (from mltable) (2022.5)\n",
            "Requirement already satisfied: jsonschema<5.0.0,>=4.0.0 in /anaconda/envs/azureml_py38/lib/python3.8/site-packages (from mltable) (4.17.3)\n",
            "Requirement already satisfied: python-dateutil<3.0.0,>=2.7.3 in /anaconda/envs/azureml_py38/lib/python3.8/site-packages (from mltable) (2.8.2)\n",
            "Requirement already satisfied: certifi>=2017.4.17 in /anaconda/envs/azureml_py38/lib/python3.8/site-packages (from msrest>=0.6.18->mltable) (2022.9.24)\n",
            "Requirement already satisfied: isodate>=0.6.0 in /anaconda/envs/azureml_py38/lib/python3.8/site-packages (from msrest>=0.6.18->mltable) (0.6.1)\n",
            "Requirement already satisfied: requests~=2.16 in /anaconda/envs/azureml_py38/lib/python3.8/site-packages (from msrest>=0.6.18->mltable) (2.31.0)\n",
            "Requirement already satisfied: requests-oauthlib>=0.5.0 in /anaconda/envs/azureml_py38/lib/python3.8/site-packages (from msrest>=0.6.18->mltable) (1.3.1)\n",
            "Requirement already satisfied: typing-extensions>=4.3.0 in /anaconda/envs/azureml_py38/lib/python3.8/site-packages (from azure-core!=1.22.0,<2.0.0,>=1.8.0->mltable) (4.6.0)\n",
            "Requirement already satisfied: six>=1.11.0 in /anaconda/envs/azureml_py38/lib/python3.8/site-packages (from azure-core!=1.22.0,<2.0.0,>=1.8.0->mltable) (1.16.0)\n",
            "Requirement already satisfied: cffi>=1.12 in /anaconda/envs/azureml_py38/lib/python3.8/site-packages (from cryptography!=1.9,!=2.0.*,!=2.1.*,!=2.2.*->mltable) (1.15.1)\n",
            "Requirement already satisfied: azureml-dataprep-rslex~=2.22.2dev0 in /anaconda/envs/azureml_py38/lib/python3.8/site-packages (from azureml-dataprep[parquet]<5.2.0a,>=5.1.0a->mltable) (2.22.2)\n",
            "Requirement already satisfied: cloudpickle<3.0.0,>=1.1.0 in /anaconda/envs/azureml_py38/lib/python3.8/site-packages (from azureml-dataprep[parquet]<5.2.0a,>=5.1.0a->mltable) (1.6.0)\n",
            "Requirement already satisfied: azureml-dataprep-native<42.0.0,>=41.0.0 in /anaconda/envs/azureml_py38/lib/python3.8/site-packages (from azureml-dataprep[parquet]<5.2.0a,>=5.1.0a->mltable) (41.0.0)\n",
            "Requirement already satisfied: azure-identity>=1.7.0 in /anaconda/envs/azureml_py38/lib/python3.8/site-packages (from azureml-dataprep[parquet]<5.2.0a,>=5.1.0a->mltable) (1.13.0)\n",
            "Requirement already satisfied: pyarrow>=0.17.0; extra == \"parquet\" in /anaconda/envs/azureml_py38/lib/python3.8/site-packages (from azureml-dataprep[parquet]<5.2.0a,>=5.1.0a->mltable) (9.0.0)\n",
            "Requirement already satisfied: importlib-resources>=1.4.0; python_version < \"3.9\" in /anaconda/envs/azureml_py38/lib/python3.8/site-packages (from jsonschema<5.0.0,>=4.0.0->mltable) (5.12.0)\n",
            "Requirement already satisfied: pyrsistent!=0.17.0,!=0.17.1,!=0.17.2,>=0.14.0 in /anaconda/envs/azureml_py38/lib/python3.8/site-packages (from jsonschema<5.0.0,>=4.0.0->mltable) (0.19.3)\n",
            "Requirement already satisfied: attrs>=17.4.0 in /anaconda/envs/azureml_py38/lib/python3.8/site-packages (from jsonschema<5.0.0,>=4.0.0->mltable) (23.1.0)\n",
            "Requirement already satisfied: pkgutil-resolve-name>=1.3.10; python_version < \"3.9\" in /anaconda/envs/azureml_py38/lib/python3.8/site-packages (from jsonschema<5.0.0,>=4.0.0->mltable) (1.3.10)\n",
            "Requirement already satisfied: idna<4,>=2.5 in /anaconda/envs/azureml_py38/lib/python3.8/site-packages (from requests~=2.16->msrest>=0.6.18->mltable) (3.4)\n",
            "Requirement already satisfied: urllib3<3,>=1.21.1 in /anaconda/envs/azureml_py38/lib/python3.8/site-packages (from requests~=2.16->msrest>=0.6.18->mltable) (1.26.16)\n",
            "Requirement already satisfied: charset-normalizer<4,>=2 in /anaconda/envs/azureml_py38/lib/python3.8/site-packages (from requests~=2.16->msrest>=0.6.18->mltable) (3.1.0)\n",
            "Requirement already satisfied: oauthlib>=3.0.0 in /anaconda/envs/azureml_py38/lib/python3.8/site-packages (from requests-oauthlib>=0.5.0->msrest>=0.6.18->mltable) (3.2.2)\n",
            "Requirement already satisfied: pycparser in /anaconda/envs/azureml_py38/lib/python3.8/site-packages (from cffi>=1.12->cryptography!=1.9,!=2.0.*,!=2.1.*,!=2.2.*->mltable) (2.21)\n",
            "Requirement already satisfied: msal<2.0.0,>=1.20.0 in /anaconda/envs/azureml_py38/lib/python3.8/site-packages (from azure-identity>=1.7.0->azureml-dataprep[parquet]<5.2.0a,>=5.1.0a->mltable) (1.22.0)\n",
            "Requirement already satisfied: msal-extensions<2.0.0,>=0.3.0 in /anaconda/envs/azureml_py38/lib/python3.8/site-packages (from azure-identity>=1.7.0->azureml-dataprep[parquet]<5.2.0a,>=5.1.0a->mltable) (1.0.0)\n",
            "Requirement already satisfied: numpy>=1.16.6 in /anaconda/envs/azureml_py38/lib/python3.8/site-packages (from pyarrow>=0.17.0; extra == \"parquet\"->azureml-dataprep[parquet]<5.2.0a,>=5.1.0a->mltable) (1.21.6)\n",
            "Requirement already satisfied: zipp>=3.1.0; python_version < \"3.10\" in /anaconda/envs/azureml_py38/lib/python3.8/site-packages (from importlib-resources>=1.4.0; python_version < \"3.9\"->jsonschema<5.0.0,>=4.0.0->mltable) (3.12.0)\n",
            "Requirement already satisfied: portalocker<3,>=1.0; python_version >= \"3.5\" and platform_system != \"Windows\" in /anaconda/envs/azureml_py38/lib/python3.8/site-packages (from msal-extensions<2.0.0,>=0.3.0->azure-identity>=1.7.0->azureml-dataprep[parquet]<5.2.0a,>=5.1.0a->mltable) (2.7.0)\n"
          ]
        }
      ],
      "source": [
        "!pip install azureml-core\n",
        "!pip install mltable"
      ]
    },
    {
      "cell_type": "code",
      "execution_count": null,
      "id": "09c5c956",
      "metadata": {
        "id": "09c5c956",
        "outputId": "c451fcee-23a9-4ff2-b2b1-0ca9fed141b9"
      },
      "outputs": [
        {
          "name": "stdout",
          "output_type": "stream",
          "text": [
            "Requirement already satisfied: azure-ai-ml in /anaconda/envs/azureml_py38/lib/python3.8/site-packages (1.14.0)\n",
            "Requirement already satisfied: pyjwt<3.0.0 in /anaconda/envs/azureml_py38/lib/python3.8/site-packages (from azure-ai-ml) (2.4.0)\n",
            "Requirement already satisfied: msrest>=0.6.18 in /anaconda/envs/azureml_py38/lib/python3.8/site-packages (from azure-ai-ml) (0.7.1)\n",
            "Requirement already satisfied: azure-common<2.0.0,>=1.1 in /anaconda/envs/azureml_py38/lib/python3.8/site-packages (from azure-ai-ml) (1.1.28)\n",
            "Requirement already satisfied: strictyaml<2.0.0 in /anaconda/envs/azureml_py38/lib/python3.8/site-packages (from azure-ai-ml) (1.7.3)\n",
            "Requirement already satisfied: azure-storage-blob<13.0.0,>=12.10.0 in /anaconda/envs/azureml_py38/lib/python3.8/site-packages (from azure-ai-ml) (12.13.0)\n",
            "Requirement already satisfied: jsonschema<5.0.0,>=4.0.0 in /anaconda/envs/azureml_py38/lib/python3.8/site-packages (from azure-ai-ml) (4.17.3)\n",
            "Requirement already satisfied: tqdm<5.0.0 in /anaconda/envs/azureml_py38/lib/python3.8/site-packages (from azure-ai-ml) (4.65.0)\n",
            "Requirement already satisfied: azure-core<2.0.0,>=1.23.0 in /anaconda/envs/azureml_py38/lib/python3.8/site-packages (from azure-ai-ml) (1.26.4)\n",
            "Requirement already satisfied: typing-extensions<5.0.0 in /anaconda/envs/azureml_py38/lib/python3.8/site-packages (from azure-ai-ml) (4.6.0)\n",
            "Requirement already satisfied: pydash>=6.0.0 in /anaconda/envs/azureml_py38/lib/python3.8/site-packages (from azure-ai-ml) (7.0.7)\n",
            "Requirement already satisfied: marshmallow<4.0.0,>=3.5 in /anaconda/envs/azureml_py38/lib/python3.8/site-packages (from azure-ai-ml) (3.21.1)\n",
            "Requirement already satisfied: isodate in /anaconda/envs/azureml_py38/lib/python3.8/site-packages (from azure-ai-ml) (0.6.1)\n",
            "Requirement already satisfied: opencensus-ext-logging<=0.1.1 in /anaconda/envs/azureml_py38/lib/python3.8/site-packages (from azure-ai-ml) (0.1.1)\n",
            "Requirement already satisfied: azure-storage-file-share<13.0.0 in /anaconda/envs/azureml_py38/lib/python3.8/site-packages (from azure-ai-ml) (12.15.0)\n",
            "Requirement already satisfied: opencensus-ext-azure<2.0.0 in /anaconda/envs/azureml_py38/lib/python3.8/site-packages (from azure-ai-ml) (1.1.9)\n",
            "Requirement already satisfied: pyyaml<7.0.0,>=5.1.0 in /anaconda/envs/azureml_py38/lib/python3.8/site-packages (from azure-ai-ml) (6.0)\n",
            "Requirement already satisfied: colorama<0.5.0 in /anaconda/envs/azureml_py38/lib/python3.8/site-packages (from azure-ai-ml) (0.4.6)\n",
            "Requirement already satisfied: azure-storage-file-datalake<13.0.0 in /anaconda/envs/azureml_py38/lib/python3.8/site-packages (from azure-ai-ml) (12.14.0)\n",
            "Requirement already satisfied: azure-mgmt-core<2.0.0,>=1.3.0 in /anaconda/envs/azureml_py38/lib/python3.8/site-packages (from azure-ai-ml) (1.4.0)\n",
            "Requirement already satisfied: certifi>=2017.4.17 in /anaconda/envs/azureml_py38/lib/python3.8/site-packages (from msrest>=0.6.18->azure-ai-ml) (2022.9.24)\n",
            "Requirement already satisfied: requests-oauthlib>=0.5.0 in /anaconda/envs/azureml_py38/lib/python3.8/site-packages (from msrest>=0.6.18->azure-ai-ml) (1.3.1)\n",
            "Requirement already satisfied: requests~=2.16 in /anaconda/envs/azureml_py38/lib/python3.8/site-packages (from msrest>=0.6.18->azure-ai-ml) (2.31.0)\n",
            "Requirement already satisfied: python-dateutil>=2.6.0 in /anaconda/envs/azureml_py38/lib/python3.8/site-packages (from strictyaml<2.0.0->azure-ai-ml) (2.8.2)\n",
            "Requirement already satisfied: cryptography>=2.1.4 in /anaconda/envs/azureml_py38/lib/python3.8/site-packages (from azure-storage-blob<13.0.0,>=12.10.0->azure-ai-ml) (38.0.4)\n",
            "Requirement already satisfied: attrs>=17.4.0 in /anaconda/envs/azureml_py38/lib/python3.8/site-packages (from jsonschema<5.0.0,>=4.0.0->azure-ai-ml) (23.1.0)\n",
            "Requirement already satisfied: pyrsistent!=0.17.0,!=0.17.1,!=0.17.2,>=0.14.0 in /anaconda/envs/azureml_py38/lib/python3.8/site-packages (from jsonschema<5.0.0,>=4.0.0->azure-ai-ml) (0.19.3)\n",
            "Requirement already satisfied: importlib-resources>=1.4.0; python_version < \"3.9\" in /anaconda/envs/azureml_py38/lib/python3.8/site-packages (from jsonschema<5.0.0,>=4.0.0->azure-ai-ml) (5.12.0)\n",
            "Requirement already satisfied: pkgutil-resolve-name>=1.3.10; python_version < \"3.9\" in /anaconda/envs/azureml_py38/lib/python3.8/site-packages (from jsonschema<5.0.0,>=4.0.0->azure-ai-ml) (1.3.10)\n",
            "Requirement already satisfied: six>=1.11.0 in /anaconda/envs/azureml_py38/lib/python3.8/site-packages (from azure-core<2.0.0,>=1.23.0->azure-ai-ml) (1.16.0)\n",
            "Requirement already satisfied: packaging>=17.0 in /anaconda/envs/azureml_py38/lib/python3.8/site-packages (from marshmallow<4.0.0,>=3.5->azure-ai-ml) (23.0)\n",
            "Requirement already satisfied: opencensus<1.0.0,>=0.8.0 in /anaconda/envs/azureml_py38/lib/python3.8/site-packages (from opencensus-ext-logging<=0.1.1->azure-ai-ml) (0.11.2)\n",
            "Requirement already satisfied: psutil>=5.6.3 in /anaconda/envs/azureml_py38/lib/python3.8/site-packages (from opencensus-ext-azure<2.0.0->azure-ai-ml) (5.9.5)\n",
            "Requirement already satisfied: azure-identity<2.0.0,>=1.5.0 in /anaconda/envs/azureml_py38/lib/python3.8/site-packages (from opencensus-ext-azure<2.0.0->azure-ai-ml) (1.13.0)\n",
            "Requirement already satisfied: oauthlib>=3.0.0 in /anaconda/envs/azureml_py38/lib/python3.8/site-packages (from requests-oauthlib>=0.5.0->msrest>=0.6.18->azure-ai-ml) (3.2.2)\n",
            "Requirement already satisfied: charset-normalizer<4,>=2 in /anaconda/envs/azureml_py38/lib/python3.8/site-packages (from requests~=2.16->msrest>=0.6.18->azure-ai-ml) (3.1.0)\n",
            "Requirement already satisfied: idna<4,>=2.5 in /anaconda/envs/azureml_py38/lib/python3.8/site-packages (from requests~=2.16->msrest>=0.6.18->azure-ai-ml) (3.4)\n",
            "Requirement already satisfied: urllib3<3,>=1.21.1 in /anaconda/envs/azureml_py38/lib/python3.8/site-packages (from requests~=2.16->msrest>=0.6.18->azure-ai-ml) (1.26.16)\n",
            "Requirement already satisfied: cffi>=1.12 in /anaconda/envs/azureml_py38/lib/python3.8/site-packages (from cryptography>=2.1.4->azure-storage-blob<13.0.0,>=12.10.0->azure-ai-ml) (1.15.1)\n",
            "Requirement already satisfied: zipp>=3.1.0; python_version < \"3.10\" in /anaconda/envs/azureml_py38/lib/python3.8/site-packages (from importlib-resources>=1.4.0; python_version < \"3.9\"->jsonschema<5.0.0,>=4.0.0->azure-ai-ml) (3.12.0)\n",
            "Requirement already satisfied: opencensus-context>=0.1.3 in /anaconda/envs/azureml_py38/lib/python3.8/site-packages (from opencensus<1.0.0,>=0.8.0->opencensus-ext-logging<=0.1.1->azure-ai-ml) (0.1.3)\n",
            "Requirement already satisfied: google-api-core<3.0.0,>=1.0.0; python_version >= \"3.6\" in /anaconda/envs/azureml_py38/lib/python3.8/site-packages (from opencensus<1.0.0,>=0.8.0->opencensus-ext-logging<=0.1.1->azure-ai-ml) (2.11.0)\n",
            "Requirement already satisfied: msal-extensions<2.0.0,>=0.3.0 in /anaconda/envs/azureml_py38/lib/python3.8/site-packages (from azure-identity<2.0.0,>=1.5.0->opencensus-ext-azure<2.0.0->azure-ai-ml) (1.0.0)\n",
            "Requirement already satisfied: msal<2.0.0,>=1.20.0 in /anaconda/envs/azureml_py38/lib/python3.8/site-packages (from azure-identity<2.0.0,>=1.5.0->opencensus-ext-azure<2.0.0->azure-ai-ml) (1.22.0)\n",
            "Requirement already satisfied: pycparser in /anaconda/envs/azureml_py38/lib/python3.8/site-packages (from cffi>=1.12->cryptography>=2.1.4->azure-storage-blob<13.0.0,>=12.10.0->azure-ai-ml) (2.21)\n",
            "Requirement already satisfied: protobuf!=3.20.0,!=3.20.1,!=4.21.0,!=4.21.1,!=4.21.2,!=4.21.3,!=4.21.4,!=4.21.5,<5.0.0dev,>=3.19.5 in /anaconda/envs/azureml_py38/lib/python3.8/site-packages (from google-api-core<3.0.0,>=1.0.0; python_version >= \"3.6\"->opencensus<1.0.0,>=0.8.0->opencensus-ext-logging<=0.1.1->azure-ai-ml) (3.20.3)\n",
            "Requirement already satisfied: googleapis-common-protos<2.0dev,>=1.56.2 in /anaconda/envs/azureml_py38/lib/python3.8/site-packages (from google-api-core<3.0.0,>=1.0.0; python_version >= \"3.6\"->opencensus<1.0.0,>=0.8.0->opencensus-ext-logging<=0.1.1->azure-ai-ml) (1.59.0)\n",
            "Requirement already satisfied: google-auth<3.0dev,>=2.14.1 in /anaconda/envs/azureml_py38/lib/python3.8/site-packages (from google-api-core<3.0.0,>=1.0.0; python_version >= \"3.6\"->opencensus<1.0.0,>=0.8.0->opencensus-ext-logging<=0.1.1->azure-ai-ml) (2.18.1)\n",
            "Requirement already satisfied: portalocker<3,>=1.0; python_version >= \"3.5\" and platform_system != \"Windows\" in /anaconda/envs/azureml_py38/lib/python3.8/site-packages (from msal-extensions<2.0.0,>=0.3.0->azure-identity<2.0.0,>=1.5.0->opencensus-ext-azure<2.0.0->azure-ai-ml) (2.7.0)\n",
            "Requirement already satisfied: pyasn1-modules>=0.2.1 in /anaconda/envs/azureml_py38/lib/python3.8/site-packages (from google-auth<3.0dev,>=2.14.1->google-api-core<3.0.0,>=1.0.0; python_version >= \"3.6\"->opencensus<1.0.0,>=0.8.0->opencensus-ext-logging<=0.1.1->azure-ai-ml) (0.3.0)\n",
            "Requirement already satisfied: cachetools<6.0,>=2.0.0 in /anaconda/envs/azureml_py38/lib/python3.8/site-packages (from google-auth<3.0dev,>=2.14.1->google-api-core<3.0.0,>=1.0.0; python_version >= \"3.6\"->opencensus<1.0.0,>=0.8.0->opencensus-ext-logging<=0.1.1->azure-ai-ml) (5.3.0)\n",
            "Requirement already satisfied: rsa<5,>=3.1.4; python_version >= \"3.6\" in /anaconda/envs/azureml_py38/lib/python3.8/site-packages (from google-auth<3.0dev,>=2.14.1->google-api-core<3.0.0,>=1.0.0; python_version >= \"3.6\"->opencensus<1.0.0,>=0.8.0->opencensus-ext-logging<=0.1.1->azure-ai-ml) (4.9)\n",
            "Requirement already satisfied: pyasn1<0.6.0,>=0.4.6 in /anaconda/envs/azureml_py38/lib/python3.8/site-packages (from pyasn1-modules>=0.2.1->google-auth<3.0dev,>=2.14.1->google-api-core<3.0.0,>=1.0.0; python_version >= \"3.6\"->opencensus<1.0.0,>=0.8.0->opencensus-ext-logging<=0.1.1->azure-ai-ml) (0.5.0)\n"
          ]
        }
      ],
      "source": [
        "!pip install azure-ai-ml"
      ]
    },
    {
      "cell_type": "code",
      "execution_count": null,
      "id": "8db513a7",
      "metadata": {
        "id": "8db513a7",
        "outputId": "694180d5-4dd4-47e8-e7b2-b7f26604bd43"
      },
      "outputs": [
        {
          "name": "stdout",
          "output_type": "stream",
          "text": [
            "You are currently using version 1.51.0 of the Azure ML SDK.\n",
            "\n",
            "Workspace name: churnmlworkspace\n",
            "Azure region: eastus2\n",
            "Subscription id: 933f01f3-4472-472f-b871-6d951277b79a\n",
            "Resource group: azurecustomerchurn\n"
          ]
        }
      ],
      "source": [
        "# Azure ML libraries\n",
        "from azureml.core import Experiment, Workspace, Dataset, Datastore\n",
        "import azureml\n",
        "\n",
        "# Check core SDK version number\n",
        "print(\"You are currently using version\", azureml.core.VERSION, \"of the Azure ML SDK.\\n\")\n",
        "\n",
        "# Load workspace into variable\n",
        "ws = Workspace.from_config()\n",
        "print('Workspace name: ' + ws.name,\n",
        "      'Azure region: ' + ws.location,\n",
        "      'Subscription id: ' + ws.subscription_id,\n",
        "      'Resource group: ' + ws.resource_group, sep='\\n')\n",
        "\n",
        "# Create an Azure ML experiment in the workspace\n",
        "#experiment = Experiment(workspace = ws, name = \"customer-churn-EDA-experiment\")\n",
        "experiment_name = \"customer_churn_experiment\""
      ]
    },
    {
      "cell_type": "code",
      "execution_count": null,
      "id": "34c20388",
      "metadata": {
        "id": "34c20388",
        "outputId": "3a1c0cae-b08f-4f2a-b814-e37d3fb1a1bf"
      },
      "outputs": [
        {
          "name": "stdout",
          "output_type": "stream",
          "text": [
            "Starting experiment: customer-churn-EDA-experiment\n"
          ]
        }
      ],
      "source": [
        "# Start logging data in the experiment\n",
        "run = experiment.start_logging()\n",
        "print(\"Starting experiment:\", experiment.name)"
      ]
    },
    {
      "cell_type": "code",
      "execution_count": null,
      "id": "2c26a3c8",
      "metadata": {
        "id": "2c26a3c8",
        "outputId": "32fa047d-6a30-4bdb-f356-81f3ca65004b"
      },
      "outputs": [
        {
          "name": "stderr",
          "output_type": "stream",
          "text": [
            "2024/03/23 10:57:55 INFO mlflow.tracking.fluent: Experiment with name 'customer_churn_experiment' does not exist. Creating a new experiment.\n",
            "2024/03/23 10:57:56 WARNING mlflow.utils.autologging_utils: You are using an unsupported version of statsmodels. If you encounter errors during autologging, try upgrading / downgrading statsmodels to a supported version, or try upgrading MLflow.\n",
            "2024/03/23 10:57:57 INFO mlflow.tracking.fluent: Autologging successfully enabled for statsmodels.\n",
            "2024/03/23 10:57:58 INFO mlflow.tracking.fluent: Autologging successfully enabled for sklearn.\n",
            "2024/03/23 10:57:58 INFO mlflow.tracking.fluent: Autologging successfully enabled for pyspark.\n"
          ]
        }
      ],
      "source": [
        "mlflow.set_tracking_uri(ws.get_mlflow_tracking_uri())\n",
        "mlflow.set_experiment(experiment_name)\n",
        "mlflow.autolog()"
      ]
    },
    {
      "cell_type": "markdown",
      "id": "54f9af3a",
      "metadata": {
        "id": "54f9af3a"
      },
      "source": [
        "# Import the required libraries"
      ]
    },
    {
      "cell_type": "code",
      "execution_count": null,
      "id": "5eb75c53",
      "metadata": {
        "id": "5eb75c53"
      },
      "outputs": [],
      "source": [
        "import pandas as pd\n",
        "import numpy as np\n",
        "from matplotlib import pyplot as plt\n",
        "%matplotlib inline\n",
        "import seaborn as sns\n",
        "import mlflow"
      ]
    },
    {
      "cell_type": "markdown",
      "id": "ae4f403a",
      "metadata": {
        "id": "ae4f403a"
      },
      "source": [
        "# Import and explore the dataset"
      ]
    },
    {
      "cell_type": "code",
      "execution_count": null,
      "id": "7dc99497",
      "metadata": {
        "id": "7dc99497",
        "outputId": "fec79f66-b384-4850-d861-c3728cd4fda5"
      },
      "outputs": [
        {
          "data": {
            "text/plain": [
              "{'customerchurn': DatasetRegistration(id='2df6c811-57c4-4023-ac1a-1e48e1d1ada4', name='customerchurn', version=1, description='', tags={})}"
            ]
          },
          "execution_count": 93,
          "metadata": {},
          "output_type": "execute_result"
        }
      ],
      "source": [
        "ws.datasets"
      ]
    },
    {
      "cell_type": "code",
      "execution_count": null,
      "id": "1675ec44",
      "metadata": {
        "id": "1675ec44",
        "outputId": "35da6919-6412-4485-f38a-0f59cf9e5015"
      },
      "outputs": [
        {
          "name": "stderr",
          "output_type": "stream",
          "text": [
            "Found the config file in: /config.json\n"
          ]
        },
        {
          "data": {
            "text/html": [
              "<div>\n",
              "<style scoped>\n",
              "    .dataframe tbody tr th:only-of-type {\n",
              "        vertical-align: middle;\n",
              "    }\n",
              "\n",
              "    .dataframe tbody tr th {\n",
              "        vertical-align: top;\n",
              "    }\n",
              "\n",
              "    .dataframe thead th {\n",
              "        text-align: right;\n",
              "    }\n",
              "</style>\n",
              "<table border=\"1\" class=\"dataframe\">\n",
              "  <thead>\n",
              "    <tr style=\"text-align: right;\">\n",
              "      <th></th>\n",
              "      <th>customerID</th>\n",
              "      <th>gender</th>\n",
              "      <th>SeniorCitizen</th>\n",
              "      <th>Partner</th>\n",
              "      <th>Dependents</th>\n",
              "      <th>tenure</th>\n",
              "      <th>PhoneService</th>\n",
              "      <th>MultipleLines</th>\n",
              "      <th>InternetService</th>\n",
              "      <th>MonthlyCharges</th>\n",
              "      <th>TotalCharges</th>\n",
              "      <th>Churn</th>\n",
              "    </tr>\n",
              "  </thead>\n",
              "  <tbody>\n",
              "    <tr>\n",
              "      <th>0</th>\n",
              "      <td>7590-VHVEG</td>\n",
              "      <td>Female</td>\n",
              "      <td>0</td>\n",
              "      <td>Yes</td>\n",
              "      <td>No</td>\n",
              "      <td>1</td>\n",
              "      <td>No</td>\n",
              "      <td>No phone service</td>\n",
              "      <td>DSL</td>\n",
              "      <td>29.85</td>\n",
              "      <td>29.85</td>\n",
              "      <td>No</td>\n",
              "    </tr>\n",
              "    <tr>\n",
              "      <th>1</th>\n",
              "      <td>5575-GNVDE</td>\n",
              "      <td>Male</td>\n",
              "      <td>0</td>\n",
              "      <td>No</td>\n",
              "      <td>No</td>\n",
              "      <td>34</td>\n",
              "      <td>Yes</td>\n",
              "      <td>No</td>\n",
              "      <td>DSL</td>\n",
              "      <td>56.95</td>\n",
              "      <td>1889.5</td>\n",
              "      <td>No</td>\n",
              "    </tr>\n",
              "    <tr>\n",
              "      <th>2</th>\n",
              "      <td>3668-QPYBK</td>\n",
              "      <td>Male</td>\n",
              "      <td>0</td>\n",
              "      <td>No</td>\n",
              "      <td>No</td>\n",
              "      <td>2</td>\n",
              "      <td>Yes</td>\n",
              "      <td>No</td>\n",
              "      <td>DSL</td>\n",
              "      <td>53.85</td>\n",
              "      <td>108.15</td>\n",
              "      <td>Yes</td>\n",
              "    </tr>\n",
              "    <tr>\n",
              "      <th>3</th>\n",
              "      <td>7795-CFOCW</td>\n",
              "      <td>Male</td>\n",
              "      <td>0</td>\n",
              "      <td>No</td>\n",
              "      <td>No</td>\n",
              "      <td>45</td>\n",
              "      <td>No</td>\n",
              "      <td>No phone service</td>\n",
              "      <td>DSL</td>\n",
              "      <td>42.30</td>\n",
              "      <td>1840.75</td>\n",
              "      <td>No</td>\n",
              "    </tr>\n",
              "    <tr>\n",
              "      <th>4</th>\n",
              "      <td>9237-HQITU</td>\n",
              "      <td>Female</td>\n",
              "      <td>0</td>\n",
              "      <td>No</td>\n",
              "      <td>No</td>\n",
              "      <td>2</td>\n",
              "      <td>Yes</td>\n",
              "      <td>No</td>\n",
              "      <td>Fiber optic</td>\n",
              "      <td>70.70</td>\n",
              "      <td>151.65</td>\n",
              "      <td>Yes</td>\n",
              "    </tr>\n",
              "    <tr>\n",
              "      <th>...</th>\n",
              "      <td>...</td>\n",
              "      <td>...</td>\n",
              "      <td>...</td>\n",
              "      <td>...</td>\n",
              "      <td>...</td>\n",
              "      <td>...</td>\n",
              "      <td>...</td>\n",
              "      <td>...</td>\n",
              "      <td>...</td>\n",
              "      <td>...</td>\n",
              "      <td>...</td>\n",
              "      <td>...</td>\n",
              "    </tr>\n",
              "    <tr>\n",
              "      <th>7038</th>\n",
              "      <td>6840-RESVB</td>\n",
              "      <td>Male</td>\n",
              "      <td>0</td>\n",
              "      <td>Yes</td>\n",
              "      <td>Yes</td>\n",
              "      <td>24</td>\n",
              "      <td>Yes</td>\n",
              "      <td>Yes</td>\n",
              "      <td>DSL</td>\n",
              "      <td>84.80</td>\n",
              "      <td>1990.5</td>\n",
              "      <td>No</td>\n",
              "    </tr>\n",
              "    <tr>\n",
              "      <th>7039</th>\n",
              "      <td>2234-XADUH</td>\n",
              "      <td>Female</td>\n",
              "      <td>0</td>\n",
              "      <td>Yes</td>\n",
              "      <td>Yes</td>\n",
              "      <td>72</td>\n",
              "      <td>Yes</td>\n",
              "      <td>Yes</td>\n",
              "      <td>Fiber optic</td>\n",
              "      <td>103.20</td>\n",
              "      <td>7362.9</td>\n",
              "      <td>No</td>\n",
              "    </tr>\n",
              "    <tr>\n",
              "      <th>7040</th>\n",
              "      <td>4801-JZAZL</td>\n",
              "      <td>Female</td>\n",
              "      <td>0</td>\n",
              "      <td>Yes</td>\n",
              "      <td>Yes</td>\n",
              "      <td>11</td>\n",
              "      <td>No</td>\n",
              "      <td>No phone service</td>\n",
              "      <td>DSL</td>\n",
              "      <td>29.60</td>\n",
              "      <td>346.45</td>\n",
              "      <td>No</td>\n",
              "    </tr>\n",
              "    <tr>\n",
              "      <th>7041</th>\n",
              "      <td>8361-LTMKD</td>\n",
              "      <td>Male</td>\n",
              "      <td>1</td>\n",
              "      <td>Yes</td>\n",
              "      <td>No</td>\n",
              "      <td>4</td>\n",
              "      <td>Yes</td>\n",
              "      <td>Yes</td>\n",
              "      <td>Fiber optic</td>\n",
              "      <td>74.40</td>\n",
              "      <td>306.6</td>\n",
              "      <td>Yes</td>\n",
              "    </tr>\n",
              "    <tr>\n",
              "      <th>7042</th>\n",
              "      <td>3186-AJIEK</td>\n",
              "      <td>Male</td>\n",
              "      <td>0</td>\n",
              "      <td>No</td>\n",
              "      <td>No</td>\n",
              "      <td>66</td>\n",
              "      <td>Yes</td>\n",
              "      <td>No</td>\n",
              "      <td>Fiber optic</td>\n",
              "      <td>105.65</td>\n",
              "      <td>6844.5</td>\n",
              "      <td>No</td>\n",
              "    </tr>\n",
              "  </tbody>\n",
              "</table>\n",
              "<p>7043 rows × 12 columns</p>\n",
              "</div>"
            ],
            "text/plain": [
              "      customerID  gender  SeniorCitizen Partner Dependents  tenure  \\\n",
              "0     7590-VHVEG  Female              0     Yes         No       1   \n",
              "1     5575-GNVDE    Male              0      No         No      34   \n",
              "2     3668-QPYBK    Male              0      No         No       2   \n",
              "3     7795-CFOCW    Male              0      No         No      45   \n",
              "4     9237-HQITU  Female              0      No         No       2   \n",
              "...          ...     ...            ...     ...        ...     ...   \n",
              "7038  6840-RESVB    Male              0     Yes        Yes      24   \n",
              "7039  2234-XADUH  Female              0     Yes        Yes      72   \n",
              "7040  4801-JZAZL  Female              0     Yes        Yes      11   \n",
              "7041  8361-LTMKD    Male              1     Yes         No       4   \n",
              "7042  3186-AJIEK    Male              0      No         No      66   \n",
              "\n",
              "     PhoneService     MultipleLines InternetService  MonthlyCharges  \\\n",
              "0              No  No phone service             DSL           29.85   \n",
              "1             Yes                No             DSL           56.95   \n",
              "2             Yes                No             DSL           53.85   \n",
              "3              No  No phone service             DSL           42.30   \n",
              "4             Yes                No     Fiber optic           70.70   \n",
              "...           ...               ...             ...             ...   \n",
              "7038          Yes               Yes             DSL           84.80   \n",
              "7039          Yes               Yes     Fiber optic          103.20   \n",
              "7040           No  No phone service             DSL           29.60   \n",
              "7041          Yes               Yes     Fiber optic           74.40   \n",
              "7042          Yes                No     Fiber optic          105.65   \n",
              "\n",
              "     TotalCharges Churn  \n",
              "0           29.85    No  \n",
              "1          1889.5    No  \n",
              "2          108.15   Yes  \n",
              "3         1840.75    No  \n",
              "4          151.65   Yes  \n",
              "...           ...   ...  \n",
              "7038       1990.5    No  \n",
              "7039       7362.9    No  \n",
              "7040       346.45    No  \n",
              "7041        306.6   Yes  \n",
              "7042       6844.5    No  \n",
              "\n",
              "[7043 rows x 12 columns]"
            ]
          },
          "execution_count": 94,
          "metadata": {},
          "output_type": "execute_result"
        }
      ],
      "source": [
        "import mltable\n",
        "from azure.ai.ml import MLClient\n",
        "from azure.identity import DefaultAzureCredential\n",
        "\n",
        "ml_client = MLClient.from_config(credential=DefaultAzureCredential())\n",
        "data_asset = ml_client.data.get(\"customerchurn\", version=\"1\")\n",
        "\n",
        "tbl = mltable.load(f'azureml:/{data_asset.id}')\n",
        "\n",
        "df = tbl.to_pandas_dataframe()\n",
        "df"
      ]
    },
    {
      "cell_type": "code",
      "execution_count": null,
      "id": "817d2c36",
      "metadata": {
        "id": "817d2c36",
        "outputId": "99ea26b5-bd96-40b6-ecbe-9e6e877b54d1"
      },
      "outputs": [
        {
          "name": "stdout",
          "output_type": "stream",
          "text": [
            "<class 'pandas.core.frame.DataFrame'>\n",
            "RangeIndex: 7043 entries, 0 to 7042\n",
            "Data columns (total 12 columns):\n",
            " #   Column           Non-Null Count  Dtype  \n",
            "---  ------           --------------  -----  \n",
            " 0   customerID       7043 non-null   object \n",
            " 1   gender           7043 non-null   object \n",
            " 2   SeniorCitizen    7043 non-null   int64  \n",
            " 3   Partner          7043 non-null   object \n",
            " 4   Dependents       7043 non-null   object \n",
            " 5   tenure           7043 non-null   int64  \n",
            " 6   PhoneService     7043 non-null   object \n",
            " 7   MultipleLines    7043 non-null   object \n",
            " 8   InternetService  7043 non-null   object \n",
            " 9   MonthlyCharges   7043 non-null   float64\n",
            " 10  TotalCharges     7043 non-null   object \n",
            " 11  Churn            7043 non-null   object \n",
            "dtypes: float64(1), int64(2), object(9)\n",
            "memory usage: 660.4+ KB\n"
          ]
        }
      ],
      "source": [
        "df.info()"
      ]
    },
    {
      "cell_type": "code",
      "execution_count": null,
      "id": "14ff3929",
      "metadata": {
        "id": "14ff3929",
        "outputId": "5710f768-f31b-4725-c274-91c58623222b"
      },
      "outputs": [
        {
          "data": {
            "text/plain": [
              "customerID          object\n",
              "gender              object\n",
              "SeniorCitizen        int64\n",
              "Partner             object\n",
              "Dependents          object\n",
              "tenure               int64\n",
              "PhoneService        object\n",
              "MultipleLines       object\n",
              "InternetService     object\n",
              "MonthlyCharges     float64\n",
              "TotalCharges        object\n",
              "Churn               object\n",
              "dtype: object"
            ]
          },
          "execution_count": 9,
          "metadata": {},
          "output_type": "execute_result"
        }
      ],
      "source": [
        "df.dtypes"
      ]
    },
    {
      "cell_type": "markdown",
      "id": "0c31383d",
      "metadata": {
        "id": "0c31383d"
      },
      "source": [
        "From observation, we can see that the customerID column isn't useful for us, hence we drop it"
      ]
    },
    {
      "cell_type": "code",
      "execution_count": null,
      "id": "bffea6ba",
      "metadata": {
        "id": "bffea6ba"
      },
      "outputs": [],
      "source": [
        "df.drop('customerID',axis='columns',inplace=True)"
      ]
    },
    {
      "cell_type": "markdown",
      "id": "e02fdc6c",
      "metadata": {
        "id": "e02fdc6c"
      },
      "source": [
        "Exploring the **gender** column"
      ]
    },
    {
      "cell_type": "code",
      "execution_count": null,
      "id": "c03108af",
      "metadata": {
        "id": "c03108af",
        "outputId": "e7fb4828-4676-44a8-8f25-bee286560f25"
      },
      "outputs": [
        {
          "data": {
            "text/plain": [
              "Male      3555\n",
              "Female    3488\n",
              "Name: gender, dtype: int64"
            ]
          },
          "execution_count": 96,
          "metadata": {},
          "output_type": "execute_result"
        }
      ],
      "source": [
        "df['gender'].value_counts()"
      ]
    },
    {
      "cell_type": "markdown",
      "id": "b60a6cc1",
      "metadata": {
        "id": "b60a6cc1"
      },
      "source": [
        "Since **gender** is a categorical value, we decide to replace it with labels for the categories instead of strings"
      ]
    },
    {
      "cell_type": "code",
      "execution_count": null,
      "id": "9a9270bf",
      "metadata": {
        "id": "9a9270bf"
      },
      "outputs": [],
      "source": [
        "# Replace values for the gender column\n",
        "df['gender'].replace({'Female':1,'Male':0},inplace=True)"
      ]
    },
    {
      "cell_type": "markdown",
      "id": "8f977800",
      "metadata": {
        "id": "8f977800"
      },
      "source": [
        "Exploring and altering the **SeniorCitizen** column"
      ]
    },
    {
      "cell_type": "code",
      "execution_count": null,
      "id": "5dc00884",
      "metadata": {
        "id": "5dc00884",
        "outputId": "99432798-b9e5-473e-8ed3-8910cca78c69"
      },
      "outputs": [
        {
          "data": {
            "text/plain": [
              "0    5901\n",
              "1    1142\n",
              "Name: SeniorCitizen, dtype: int64"
            ]
          },
          "execution_count": 98,
          "metadata": {},
          "output_type": "execute_result"
        }
      ],
      "source": [
        "df['SeniorCitizen'].value_counts()"
      ]
    },
    {
      "cell_type": "markdown",
      "id": "fd3abc91",
      "metadata": {
        "id": "fd3abc91"
      },
      "source": [
        "Since its already in the correct format, we don't need to change it"
      ]
    },
    {
      "cell_type": "markdown",
      "id": "f7f90a9e",
      "metadata": {
        "id": "f7f90a9e"
      },
      "source": [
        "Exploring and altering the **Partner** column"
      ]
    },
    {
      "cell_type": "code",
      "execution_count": null,
      "id": "4a8391e0",
      "metadata": {
        "id": "4a8391e0",
        "outputId": "0a4f3c04-062a-4ae9-e26d-9f32f269139c"
      },
      "outputs": [
        {
          "data": {
            "text/plain": [
              "No     3641\n",
              "Yes    3402\n",
              "Name: Partner, dtype: int64"
            ]
          },
          "execution_count": 99,
          "metadata": {},
          "output_type": "execute_result"
        }
      ],
      "source": [
        "df['Partner'].value_counts()"
      ]
    },
    {
      "cell_type": "code",
      "execution_count": null,
      "id": "eb149ee9",
      "metadata": {
        "id": "eb149ee9"
      },
      "outputs": [],
      "source": [
        "df[\"Partner\"].replace({\"Yes\":1,\"No\":0},inplace=True)"
      ]
    },
    {
      "cell_type": "markdown",
      "id": "94e0c010",
      "metadata": {
        "id": "94e0c010"
      },
      "source": [
        "Exploring and altering the **Dependents** column"
      ]
    },
    {
      "cell_type": "code",
      "execution_count": null,
      "id": "fdc6da04",
      "metadata": {
        "id": "fdc6da04",
        "outputId": "b3b656ce-409f-4fa8-d49d-18fb6f85056e"
      },
      "outputs": [
        {
          "data": {
            "text/plain": [
              "No     4933\n",
              "Yes    2110\n",
              "Name: Dependents, dtype: int64"
            ]
          },
          "execution_count": 101,
          "metadata": {},
          "output_type": "execute_result"
        }
      ],
      "source": [
        "df['Dependents'].value_counts()"
      ]
    },
    {
      "cell_type": "code",
      "execution_count": null,
      "id": "7f5b9b60",
      "metadata": {
        "id": "7f5b9b60"
      },
      "outputs": [],
      "source": [
        "df[\"Dependents\"].replace({\"Yes\":1,\"No\":0},inplace=True)"
      ]
    },
    {
      "cell_type": "markdown",
      "id": "499fae5d",
      "metadata": {
        "id": "499fae5d"
      },
      "source": [
        "Exploring the **PhoneService** column"
      ]
    },
    {
      "cell_type": "code",
      "execution_count": null,
      "id": "d25ea16f",
      "metadata": {
        "id": "d25ea16f",
        "outputId": "0d285435-4554-428c-9ec0-cffb0c501ce1"
      },
      "outputs": [
        {
          "data": {
            "text/plain": [
              "Yes    6361\n",
              "No      682\n",
              "Name: PhoneService, dtype: int64"
            ]
          },
          "execution_count": 103,
          "metadata": {},
          "output_type": "execute_result"
        }
      ],
      "source": [
        "df['PhoneService'].value_counts()"
      ]
    },
    {
      "cell_type": "code",
      "execution_count": null,
      "id": "813ca4cc",
      "metadata": {
        "id": "813ca4cc"
      },
      "outputs": [],
      "source": [
        "df[\"PhoneService\"].replace({\"Yes\":1,\"No\":0},inplace=True)"
      ]
    },
    {
      "cell_type": "markdown",
      "id": "d145d099",
      "metadata": {
        "id": "d145d099"
      },
      "source": [
        "Exploring the **InternetService** column"
      ]
    },
    {
      "cell_type": "code",
      "execution_count": null,
      "id": "77699f1e",
      "metadata": {
        "id": "77699f1e",
        "outputId": "5f8ba529-d03f-4eda-f3b3-aaa78dc35ee3"
      },
      "outputs": [
        {
          "data": {
            "text/plain": [
              "Fiber optic    3096\n",
              "DSL            2421\n",
              "No             1526\n",
              "Name: InternetService, dtype: int64"
            ]
          },
          "execution_count": 105,
          "metadata": {},
          "output_type": "execute_result"
        }
      ],
      "source": [
        "df['InternetService'].value_counts()"
      ]
    },
    {
      "cell_type": "code",
      "execution_count": null,
      "id": "be326160",
      "metadata": {
        "id": "be326160"
      },
      "outputs": [],
      "source": [
        "df['InternetService'] = df['InternetService'].map({'DSL': 2, 'Fiber optic': 1, 'No': 0})"
      ]
    },
    {
      "cell_type": "markdown",
      "id": "443b0353",
      "metadata": {
        "id": "443b0353"
      },
      "source": [
        "Exploring the **MultipleLines** column"
      ]
    },
    {
      "cell_type": "code",
      "execution_count": null,
      "id": "9fc91e42",
      "metadata": {
        "id": "9fc91e42",
        "outputId": "0916eaf7-efb8-4e97-b947-3498085df5d0"
      },
      "outputs": [
        {
          "data": {
            "text/plain": [
              "No                  3390\n",
              "Yes                 2971\n",
              "No phone service     682\n",
              "Name: MultipleLines, dtype: int64"
            ]
          },
          "execution_count": 107,
          "metadata": {},
          "output_type": "execute_result"
        }
      ],
      "source": [
        "df['MultipleLines'].value_counts()"
      ]
    },
    {
      "cell_type": "code",
      "execution_count": null,
      "id": "57bc7693",
      "metadata": {
        "id": "57bc7693"
      },
      "outputs": [],
      "source": [
        "#Since No phone Service and No are the same thing\n",
        "mapping_dict = {'No phone service': 0, 'No': 0, 'Yes': 1}\n",
        "\n",
        "df['MultipleLines'] = df['MultipleLines'].map(mapping_dict)"
      ]
    },
    {
      "cell_type": "markdown",
      "id": "18e92d7c",
      "metadata": {
        "id": "18e92d7c"
      },
      "source": [
        "Converting the data type of the **TotalCharges** column to float, handling the errors and missing values"
      ]
    },
    {
      "cell_type": "code",
      "execution_count": null,
      "id": "d50bf1ba",
      "metadata": {
        "id": "d50bf1ba"
      },
      "outputs": [],
      "source": [
        "# Convert total charges to float type\n",
        "df[\"TotalCharges\"] = pd.to_numeric(df[\"TotalCharges\"], errors='coerce')"
      ]
    },
    {
      "cell_type": "code",
      "execution_count": null,
      "id": "12c12c92",
      "metadata": {
        "id": "12c12c92"
      },
      "outputs": [],
      "source": [
        "df[\"TotalCharges\"] = df[\"TotalCharges\"].replace(np.nan, 0)"
      ]
    },
    {
      "cell_type": "markdown",
      "id": "fd552757",
      "metadata": {
        "id": "fd552757"
      },
      "source": [
        "Replacing values for the **Churn** column"
      ]
    },
    {
      "cell_type": "code",
      "execution_count": null,
      "id": "b72fbbad",
      "metadata": {
        "id": "b72fbbad"
      },
      "outputs": [],
      "source": [
        "# Replace values for Churn column\n",
        "df[\"Churn\"].replace({\"Yes\":1,\"No\":0},inplace=True)"
      ]
    },
    {
      "cell_type": "markdown",
      "id": "1ba3a177",
      "metadata": {
        "id": "1ba3a177"
      },
      "source": [
        "# Outlier Analysis"
      ]
    },
    {
      "cell_type": "code",
      "execution_count": null,
      "id": "45081b18",
      "metadata": {
        "id": "45081b18",
        "outputId": "ae7f1310-1aa4-4161-c7cb-38b3a95867bb"
      },
      "outputs": [
        {
          "data": {
            "image/png": "[encoded data removed]",
            "text/plain": [
              "<Figure size 2000x1200 with 3 Axes>"
            ]
          },
          "metadata": {},
          "output_type": "display_data"
        }
      ],
      "source": [
        "fig, axes = plt.subplots(nrows=1, ncols=3, figsize=(20, 12))\n",
        "\n",
        "cols = [\"tenure\", \"TotalCharges\", \"MonthlyCharges\"]\n",
        "\n",
        "for i in range(3):\n",
        "    sns.boxplot(data=df, y=cols[i], ax=axes[i]);\n",
        "    axes[i].yaxis.label.set_size(15)"
      ]
    },
    {
      "cell_type": "markdown",
      "id": "5f068cfc",
      "metadata": {
        "id": "5f068cfc"
      },
      "source": [
        "Here, we can see there are no outliers"
      ]
    },
    {
      "cell_type": "markdown",
      "id": "cecea9ed",
      "metadata": {
        "id": "cecea9ed"
      },
      "source": [
        "# MinMaxScaler"
      ]
    },
    {
      "cell_type": "code",
      "execution_count": null,
      "id": "dd20a807",
      "metadata": {
        "id": "dd20a807"
      },
      "outputs": [],
      "source": [
        "from sklearn.preprocessing import MinMaxScaler\n",
        "\n",
        "cols_to_scale = ['tenure','MonthlyCharges','TotalCharges']\n",
        "scaler = MinMaxScaler()\n",
        "df[cols_to_scale] = scaler.fit_transform(df[cols_to_scale])"
      ]
    },
    {
      "cell_type": "code",
      "execution_count": null,
      "id": "2505f78b",
      "metadata": {
        "id": "2505f78b",
        "outputId": "7a6aa340-06c9-4440-90f3-648927dffa32"
      },
      "outputs": [
        {
          "data": {
            "text/html": [
              "<div>\n",
              "<style scoped>\n",
              "    .dataframe tbody tr th:only-of-type {\n",
              "        vertical-align: middle;\n",
              "    }\n",
              "\n",
              "    .dataframe tbody tr th {\n",
              "        vertical-align: top;\n",
              "    }\n",
              "\n",
              "    .dataframe thead th {\n",
              "        text-align: right;\n",
              "    }\n",
              "</style>\n",
              "<table border=\"1\" class=\"dataframe\">\n",
              "  <thead>\n",
              "    <tr style=\"text-align: right;\">\n",
              "      <th></th>\n",
              "      <th>gender</th>\n",
              "      <th>SeniorCitizen</th>\n",
              "      <th>Partner</th>\n",
              "      <th>Dependents</th>\n",
              "      <th>tenure</th>\n",
              "      <th>PhoneService</th>\n",
              "      <th>MultipleLines</th>\n",
              "      <th>InternetService</th>\n",
              "      <th>MonthlyCharges</th>\n",
              "      <th>TotalCharges</th>\n",
              "      <th>Churn</th>\n",
              "    </tr>\n",
              "  </thead>\n",
              "  <tbody>\n",
              "    <tr>\n",
              "      <th>0</th>\n",
              "      <td>1</td>\n",
              "      <td>0</td>\n",
              "      <td>1</td>\n",
              "      <td>0</td>\n",
              "      <td>0.013889</td>\n",
              "      <td>0</td>\n",
              "      <td>0</td>\n",
              "      <td>2</td>\n",
              "      <td>0.115423</td>\n",
              "      <td>0.003437</td>\n",
              "      <td>0</td>\n",
              "    </tr>\n",
              "    <tr>\n",
              "      <th>1</th>\n",
              "      <td>0</td>\n",
              "      <td>0</td>\n",
              "      <td>0</td>\n",
              "      <td>0</td>\n",
              "      <td>0.472222</td>\n",
              "      <td>1</td>\n",
              "      <td>0</td>\n",
              "      <td>2</td>\n",
              "      <td>0.385075</td>\n",
              "      <td>0.217564</td>\n",
              "      <td>0</td>\n",
              "    </tr>\n",
              "    <tr>\n",
              "      <th>2</th>\n",
              "      <td>0</td>\n",
              "      <td>0</td>\n",
              "      <td>0</td>\n",
              "      <td>0</td>\n",
              "      <td>0.027778</td>\n",
              "      <td>1</td>\n",
              "      <td>0</td>\n",
              "      <td>2</td>\n",
              "      <td>0.354229</td>\n",
              "      <td>0.012453</td>\n",
              "      <td>1</td>\n",
              "    </tr>\n",
              "    <tr>\n",
              "      <th>3</th>\n",
              "      <td>0</td>\n",
              "      <td>0</td>\n",
              "      <td>0</td>\n",
              "      <td>0</td>\n",
              "      <td>0.625000</td>\n",
              "      <td>0</td>\n",
              "      <td>0</td>\n",
              "      <td>2</td>\n",
              "      <td>0.239303</td>\n",
              "      <td>0.211951</td>\n",
              "      <td>0</td>\n",
              "    </tr>\n",
              "    <tr>\n",
              "      <th>4</th>\n",
              "      <td>1</td>\n",
              "      <td>0</td>\n",
              "      <td>0</td>\n",
              "      <td>0</td>\n",
              "      <td>0.027778</td>\n",
              "      <td>1</td>\n",
              "      <td>0</td>\n",
              "      <td>1</td>\n",
              "      <td>0.521891</td>\n",
              "      <td>0.017462</td>\n",
              "      <td>1</td>\n",
              "    </tr>\n",
              "  </tbody>\n",
              "</table>\n",
              "</div>"
            ],
            "text/plain": [
              "   gender  SeniorCitizen  Partner  Dependents    tenure  PhoneService  \\\n",
              "0       1              0        1           0  0.013889             0   \n",
              "1       0              0        0           0  0.472222             1   \n",
              "2       0              0        0           0  0.027778             1   \n",
              "3       0              0        0           0  0.625000             0   \n",
              "4       1              0        0           0  0.027778             1   \n",
              "\n",
              "   MultipleLines  InternetService  MonthlyCharges  TotalCharges  Churn  \n",
              "0              0                2        0.115423      0.003437      0  \n",
              "1              0                2        0.385075      0.217564      0  \n",
              "2              0                2        0.354229      0.012453      1  \n",
              "3              0                2        0.239303      0.211951      0  \n",
              "4              0                1        0.521891      0.017462      1  "
            ]
          },
          "execution_count": 113,
          "metadata": {},
          "output_type": "execute_result"
        }
      ],
      "source": [
        "df.head()"
      ]
    },
    {
      "cell_type": "code",
      "execution_count": null,
      "id": "c5a8baf8",
      "metadata": {
        "id": "c5a8baf8",
        "outputId": "670df1d6-cb29-48a4-8234-51ef9ec78ee0"
      },
      "outputs": [
        {
          "name": "stdout",
          "output_type": "stream",
          "text": [
            "<class 'pandas.core.frame.DataFrame'>\n",
            "RangeIndex: 7043 entries, 0 to 7042\n",
            "Data columns (total 11 columns):\n",
            " #   Column           Non-Null Count  Dtype  \n",
            "---  ------           --------------  -----  \n",
            " 0   gender           7043 non-null   int64  \n",
            " 1   SeniorCitizen    7043 non-null   int64  \n",
            " 2   Partner          7043 non-null   int64  \n",
            " 3   Dependents       7043 non-null   int64  \n",
            " 4   tenure           7043 non-null   float64\n",
            " 5   PhoneService     7043 non-null   int64  \n",
            " 6   MultipleLines    7043 non-null   int64  \n",
            " 7   InternetService  7043 non-null   int64  \n",
            " 8   MonthlyCharges   7043 non-null   float64\n",
            " 9   TotalCharges     7043 non-null   float64\n",
            " 10  Churn            7043 non-null   int64  \n",
            "dtypes: float64(3), int64(8)\n",
            "memory usage: 605.4 KB\n"
          ]
        }
      ],
      "source": [
        "df.info()"
      ]
    },
    {
      "cell_type": "markdown",
      "id": "976b5e64",
      "metadata": {
        "id": "976b5e64"
      },
      "source": [
        "# Split data into train and test"
      ]
    },
    {
      "cell_type": "code",
      "execution_count": null,
      "id": "800f37ed",
      "metadata": {
        "id": "800f37ed"
      },
      "outputs": [],
      "source": [
        "X = df.drop(columns = ['Churn']) # independent valriables\n",
        "y = df['Churn'].values # target"
      ]
    },
    {
      "cell_type": "code",
      "execution_count": null,
      "id": "093f3b35",
      "metadata": {
        "id": "093f3b35"
      },
      "outputs": [],
      "source": [
        "from sklearn.model_selection import train_test_split\n",
        "\n",
        "X_train, X_test, y_train, y_test = train_test_split(X,y,test_size = 0.3)"
      ]
    },
    {
      "cell_type": "markdown",
      "id": "3d4c5ab8",
      "metadata": {
        "id": "3d4c5ab8"
      },
      "source": [
        "# GridSearchCV (Hyperparmater Tuning)"
      ]
    },
    {
      "cell_type": "code",
      "execution_count": null,
      "id": "9bc007a5",
      "metadata": {
        "id": "9bc007a5"
      },
      "outputs": [],
      "source": [
        "from sklearn.model_selection import GridSearchCV\n",
        "## Hyperparmater Tuning\n",
        "def hyperparameter_model(grid, model):\n",
        "    cv = GridSearchCV(estimator = model, param_grid = grid,cv = 3, n_jobs = -1)\n",
        "    cv.fit(X_train, y_train)\n",
        "    print(cv.best_params_)\n",
        "    return cv"
      ]
    },
    {
      "cell_type": "markdown",
      "id": "5f898d71",
      "metadata": {
        "id": "5f898d71"
      },
      "source": [
        "# DecisionTreeClassifier"
      ]
    },
    {
      "cell_type": "code",
      "execution_count": null,
      "id": "2d655143",
      "metadata": {
        "id": "2d655143",
        "outputId": "ce570951-0e8b-4976-920d-0b7aedac2b99"
      },
      "outputs": [
        {
          "name": "stdout",
          "output_type": "stream",
          "text": [
            "{'max_depth': 10, 'min_samples_leaf': 30, 'min_samples_split': 2}\n"
          ]
        },
        {
          "data": {
            "text/plain": [
              "(0.8152129817444219, 0.7761476573592049)"
            ]
          },
          "execution_count": 34,
          "metadata": {},
          "output_type": "execute_result"
        }
      ],
      "source": [
        "from sklearn.tree import DecisionTreeClassifier\n",
        "grid = {'max_depth': [10, 20, 30,None],\n",
        "         'min_samples_split': [2, 3, 4],\n",
        "         'min_samples_leaf': [10, 20, 30]}\n",
        "\n",
        "dt_model = DecisionTreeClassifier()\n",
        "dt_grid = hyperparameter_model(grid,dt_model)\n",
        "dt_grid.score(X_train, y_train),dt_grid.score(X_test, y_test)"
      ]
    },
    {
      "cell_type": "markdown",
      "id": "9fd54f66",
      "metadata": {
        "id": "9fd54f66"
      },
      "source": [
        "# RandomForestClassifier"
      ]
    },
    {
      "cell_type": "code",
      "execution_count": null,
      "id": "8d0c31d3",
      "metadata": {
        "id": "8d0c31d3",
        "outputId": "9104c75e-5a42-4325-ccbe-f008498682f0"
      },
      "outputs": [
        {
          "name": "stdout",
          "output_type": "stream",
          "text": [
            "{'max_depth': 10, 'min_samples_leaf': 1, 'min_samples_split': 4, 'n_estimators': 250}\n"
          ]
        },
        {
          "data": {
            "text/plain": [
              "(0.8679513184584179, 0.7865593942262187)"
            ]
          },
          "execution_count": 35,
          "metadata": {},
          "output_type": "execute_result"
        }
      ],
      "source": [
        "from sklearn.ensemble import RandomForestClassifier\n",
        "random_grid={'max_depth': [10, 20, 30, None],\n",
        "             'min_samples_leaf': [1, 2],\n",
        "             'min_samples_split': [4,7],\n",
        "             'n_estimators': [250,300,350]}\n",
        "rf_model = RandomForestClassifier()\n",
        "rf_grid = hyperparameter_model(random_grid, rf_model)\n",
        "rf_grid.score(X_train, y_train),rf_grid.score(X_test, y_test)"
      ]
    },
    {
      "cell_type": "markdown",
      "id": "73437899",
      "metadata": {
        "id": "73437899"
      },
      "source": [
        "# LogisticRegression"
      ]
    },
    {
      "cell_type": "code",
      "execution_count": null,
      "id": "8efaca48",
      "metadata": {
        "id": "8efaca48",
        "outputId": "e7ac50ff-c03f-4a62-f487-3ee9eb57b7c5"
      },
      "outputs": [
        {
          "name": "stdout",
          "output_type": "stream",
          "text": [
            "{'C': 0.23357214690901212, 'max_iter': 1000, 'solver': 'sag'}\n"
          ]
        },
        {
          "data": {
            "text/plain": [
              "(0.7953346855983773, 0.7889256980596309)"
            ]
          },
          "execution_count": 36,
          "metadata": {},
          "output_type": "execute_result"
        }
      ],
      "source": [
        "from sklearn.linear_model import LogisticRegression\n",
        "grid = {\n",
        "    'C' : np.logspace(-4, 4, 20),\n",
        "    'solver' : ['lbfgs','newton-cg','liblinear','sag','saga'],\n",
        "    'max_iter' : [100, 1000,2500, 5000]\n",
        "}\n",
        "lr_model = LogisticRegression()\n",
        "lr_grid = hyperparameter_model(grid, lr_model)\n",
        "lr_grid.score(X_train, y_train),lr_grid.score(X_test, y_test)"
      ]
    },
    {
      "cell_type": "markdown",
      "id": "e9fbf787",
      "metadata": {
        "id": "e9fbf787"
      },
      "source": [
        "# Analyze scores for all models"
      ]
    },
    {
      "cell_type": "code",
      "execution_count": null,
      "id": "feec8e67",
      "metadata": {
        "id": "feec8e67",
        "outputId": "04826066-bea5-4e9c-ab38-7308e361871c"
      },
      "outputs": [
        {
          "data": {
            "text/html": [
              "<div>\n",
              "<style scoped>\n",
              "    .dataframe tbody tr th:only-of-type {\n",
              "        vertical-align: middle;\n",
              "    }\n",
              "\n",
              "    .dataframe tbody tr th {\n",
              "        vertical-align: top;\n",
              "    }\n",
              "\n",
              "    .dataframe thead th {\n",
              "        text-align: right;\n",
              "    }\n",
              "</style>\n",
              "<table border=\"1\" class=\"dataframe\">\n",
              "  <thead>\n",
              "    <tr style=\"text-align: right;\">\n",
              "      <th></th>\n",
              "      <th>Accuracy_score</th>\n",
              "      <th>F1_score</th>\n",
              "      <th>Jaccard_score</th>\n",
              "    </tr>\n",
              "  </thead>\n",
              "  <tbody>\n",
              "    <tr>\n",
              "      <th>DecisionTreeClassifier</th>\n",
              "      <td>0.776148</td>\n",
              "      <td>0.762765</td>\n",
              "      <td>0.744324</td>\n",
              "    </tr>\n",
              "    <tr>\n",
              "      <th>Random Forest Classifier</th>\n",
              "      <td>0.786559</td>\n",
              "      <td>0.774543</td>\n",
              "      <td>0.754223</td>\n",
              "    </tr>\n",
              "    <tr>\n",
              "      <th>Logistic Regression</th>\n",
              "      <td>0.788926</td>\n",
              "      <td>0.770549</td>\n",
              "      <td>0.760858</td>\n",
              "    </tr>\n",
              "  </tbody>\n",
              "</table>\n",
              "</div>"
            ],
            "text/plain": [
              "                          Accuracy_score  F1_score  Jaccard_score\n",
              "DecisionTreeClassifier          0.776148  0.762765       0.744324\n",
              "Random Forest Classifier        0.786559  0.774543       0.754223\n",
              "Logistic Regression             0.788926  0.770549       0.760858"
            ]
          },
          "execution_count": 37,
          "metadata": {},
          "output_type": "execute_result"
        }
      ],
      "source": [
        "from sklearn.metrics import f1_score,accuracy_score, jaccard_score\n",
        "\n",
        "accuracyPred = [dt_grid.predict(X_test), rf_grid.predict(X_test), lr_grid.predict(X_test)]\n",
        "\n",
        "accuracy = pd.DataFrame(index=['DecisionTreeClassifier',\n",
        "                              'Random Forest Classifier',\n",
        "                              'Logistic Regression'\n",
        "                              ])\n",
        "\n",
        "accuracy['Accuracy_score']=[accuracy_score(y_test,i) for i in accuracyPred]\n",
        "accuracy['F1_score']=[f1_score(y_test, i, average='weighted')  for i in accuracyPred]\n",
        "accuracy['Jaccard_score']=[jaccard_score(y_test, i,pos_label=0)  for i in accuracyPred]\n",
        "accuracy"
      ]
    },
    {
      "cell_type": "markdown",
      "id": "ef65770e",
      "metadata": {
        "id": "ef65770e"
      },
      "source": [
        "We can see that logistic regression has performed best across all score measures, hence we chose this"
      ]
    },
    {
      "cell_type": "markdown",
      "id": "8fc4e351",
      "metadata": {
        "id": "8fc4e351"
      },
      "source": [
        "# Predict with optimized parameters"
      ]
    },
    {
      "cell_type": "code",
      "execution_count": null,
      "id": "a669cedd",
      "metadata": {
        "id": "a669cedd"
      },
      "outputs": [],
      "source": [
        "classifier = LogisticRegression(C=0.23357214690901212, max_iter=100, solver='newton-cg')"
      ]
    },
    {
      "cell_type": "code",
      "execution_count": null,
      "id": "37800292",
      "metadata": {
        "id": "37800292",
        "outputId": "aa1906d8-9031-43be-ce6d-58364235948c"
      },
      "outputs": [
        {
          "name": "stderr",
          "output_type": "stream",
          "text": [
            "2024/03/23 11:00:53 WARNING mlflow.utils.autologging_utils: MLflow autologging encountered a warning: \"/anaconda/envs/azureml_py38/lib/python3.8/site-packages/mlflow/models/signature.py:137: UserWarning: Hint: Inferred schema contains integer column(s). Integer columns in Python cannot represent missing values. If your input data contains missing values at inference time, it will be encoded as floats and will cause a schema enforcement error. The best way to avoid this problem is to infer the model schema based on a realistic data sample (training dataset) that includes missing values. Alternatively, you can declare integer columns as doubles (float64) whenever these columns may have missing values. See `Handling Integers With Missing Values <https://www.mlflow.org/docs/latest/models.html#handling-integers-with-missing-values>`_ for more details.\"\n",
            "2024/03/23 11:00:57 WARNING mlflow.utils.autologging_utils: MLflow autologging encountered a warning: \"/anaconda/envs/azureml_py38/lib/python3.8/site-packages/_distutils_hack/__init__.py:33: UserWarning: Setuptools is replacing distutils.\"\n"
          ]
        }
      ],
      "source": [
        "with mlflow.start_run() as run:\n",
        "    classifier.fit(X_train,y_train)"
      ]
    },
    {
      "cell_type": "code",
      "execution_count": null,
      "id": "b6e15303",
      "metadata": {
        "id": "b6e15303",
        "outputId": "11c3935b-bc48-4366-857b-1b8dd8bb84d1"
      },
      "outputs": [
        {
          "name": "stderr",
          "output_type": "stream",
          "text": [
            "/anaconda/envs/azureml_py38/lib/python3.8/site-packages/sklearn/externals/joblib/__init__.py:15: FutureWarning: sklearn.externals.joblib is deprecated in 0.21 and will be removed in 0.23. Please import this functionality directly from joblib, which can be installed with: pip install joblib. If this warning is raised when loading pickled models, you may need to re-serialize those models with scikit-learn 0.21+.\n",
            "  warnings.warn(msg, category=FutureWarning)\n"
          ]
        }
      ],
      "source": [
        "from sklearn.externals import joblib\n",
        "\n",
        "#Fit the model on training data\n",
        "classifier.fit(X_train, y_train)\n",
        "#Make the prediction\n",
        "y_pred = classifier.predict(X_test)\n",
        "## Save as a pickle file\n",
        "filename= 'final_mod_v1.pkl'\n",
        "joblib.dump(classifier,open(filename, 'wb'))"
      ]
    },
    {
      "cell_type": "code",
      "execution_count": null,
      "id": "7e8b1136",
      "metadata": {
        "id": "7e8b1136"
      },
      "outputs": [],
      "source": [
        "loaded_model = joblib.load(filename)\n",
        "y = loaded_model.predict([[0,0,0,0,0.472222,1,0,2,0.385075,0.217564]])[0]"
      ]
    },
    {
      "cell_type": "code",
      "execution_count": null,
      "id": "db1d7cbb",
      "metadata": {
        "id": "db1d7cbb",
        "outputId": "04efbf67-7355-4b5e-b4e7-56e28500f48a"
      },
      "outputs": [
        {
          "data": {
            "text/plain": [
              "0"
            ]
          },
          "execution_count": 47,
          "metadata": {},
          "output_type": "execute_result"
        }
      ],
      "source": [
        "y"
      ]
    },
    {
      "cell_type": "markdown",
      "id": "3e86d04f",
      "metadata": {
        "id": "3e86d04f"
      },
      "source": [
        "We can see that the prediction is correct"
      ]
    },
    {
      "cell_type": "code",
      "execution_count": null,
      "id": "9283f531",
      "metadata": {
        "id": "9283f531"
      },
      "outputs": [],
      "source": [
        "import datetime\n",
        "run.log(\"Experiment end time\", str(datetime.datetime.now()))\n",
        "run.complete()"
      ]
    },
    {
      "cell_type": "code",
      "execution_count": null,
      "id": "05558e40",
      "metadata": {
        "id": "05558e40",
        "outputId": "47b53ba6-ae5e-440d-f90a-6f0f5ca48ed5"
      },
      "outputs": [
        {
          "name": "stdout",
          "output_type": "stream",
          "text": [
            "https://ml.azure.com/runs/3d987be8-d241-476b-9e04-206d3229984d?wsid=/subscriptions/933f01f3-4472-472f-b871-6d951277b79a/resourcegroups/azurecustomerchurn/workspaces/churnmlworkspace&tid=5206ff04-0211-40f9-9360-6a57e54bf5f3\n"
          ]
        }
      ],
      "source": [
        "print(run.get_portal_url())"
      ]
    },
    {
      "cell_type": "markdown",
      "id": "469f4b7a",
      "metadata": {
        "id": "469f4b7a"
      },
      "source": [
        "# Register model"
      ]
    },
    {
      "cell_type": "code",
      "execution_count": null,
      "id": "d5593318",
      "metadata": {
        "id": "d5593318",
        "outputId": "66176bd8-c7ae-480a-8ed4-4607af9812e2"
      },
      "outputs": [
        {
          "name": "stdout",
          "output_type": "stream",
          "text": [
            "Registering model final_model\n"
          ]
        }
      ],
      "source": [
        "from azureml.core.model import Model\n",
        "\n",
        "model = Model.register(model_path = 'final_mod_v1.pkl',\n",
        "                      model_name = 'final_model',\n",
        "                      tags = {\"key\":\"1\"},\n",
        "                      description = \"Customer Churn Prediction\",\n",
        "                      workspace = ws)"
      ]
    },
    {
      "cell_type": "markdown",
      "id": "2be0a019",
      "metadata": {
        "id": "2be0a019"
      },
      "source": [
        "# Aci webservice"
      ]
    },
    {
      "cell_type": "code",
      "execution_count": null,
      "id": "c6270a78",
      "metadata": {
        "id": "c6270a78"
      },
      "outputs": [],
      "source": [
        "from azureml.core.webservice import AciWebservice\n",
        "aciconfig = AciWebservice.deploy_configuration(cpu_cores=1,\n",
        "                                              memory_gb=1,\n",
        "                                              tags = {\"Data\":\"Customer churn\",\"method\":\"sklearn\"},\n",
        "                                              description = \"Predict customer churn\")"
      ]
    },
    {
      "cell_type": "markdown",
      "id": "78f962c2",
      "metadata": {
        "id": "78f962c2"
      },
      "source": [
        "# Create dependencies file"
      ]
    },
    {
      "cell_type": "code",
      "execution_count": null,
      "id": "108ccab0",
      "metadata": {
        "id": "108ccab0",
        "outputId": "e3a41396-5130-462d-fe03-cd4d4d3cdd5f"
      },
      "outputs": [
        {
          "name": "stdout",
          "output_type": "stream",
          "text": [
            "# Conda environment specification. The dependencies defined in this file will\n",
            "# be automatically provisioned for runs with userManagedDependencies=False.\n",
            "\n",
            "# Details about the Conda environment file format:\n",
            "# https://conda.io/docs/user-guide/tasks/manage-environments.html#create-env-file-manually\n",
            "\n",
            "name: project_environment\n",
            "dependencies:\n",
            "  # The python interpreter version.\n",
            "  # Currently Azure ML only supports 3.8 and later.\n",
            "- python=3.8.13\n",
            "\n",
            "- pip:\n",
            "    # Required packages for AzureML execution, history, and data preparation.\n",
            "  - azureml-defaults\n",
            "\n",
            "- scikit-learn\n",
            "channels:\n",
            "- anaconda\n",
            "- conda-forge\n",
            "\n"
          ]
        }
      ],
      "source": [
        "from azureml.core import Environment\n",
        "from azureml.core.conda_dependencies import CondaDependencies\n",
        "churnenv = CondaDependencies()\n",
        "churnenv.add_conda_package(\"scikit-learn\")\n",
        "with open(\"churnenv.yml\",\"w\") as f:\n",
        "    f.write(churnenv.serialize_to_string())\n",
        "with open(\"churnenv.yml\",\"r\") as f:\n",
        "    print(f.read())"
      ]
    },
    {
      "cell_type": "markdown",
      "id": "8a880bb2",
      "metadata": {
        "id": "8a880bb2"
      },
      "source": [
        "# Create scoring file"
      ]
    },
    {
      "cell_type": "code",
      "execution_count": null,
      "id": "cda78a1b",
      "metadata": {
        "id": "cda78a1b",
        "outputId": "25a32c6b-b2a7-412b-b620-3bfe8a6acc23"
      },
      "outputs": [
        {
          "name": "stdout",
          "output_type": "stream",
          "text": [
            "Overwriting score.py\n"
          ]
        }
      ],
      "source": [
        "%%writefile score.py\n",
        "import json\n",
        "import numpy as np\n",
        "import os\n",
        "import pickle\n",
        "import pandas as pd\n",
        "from sklearn.externals import joblib\n",
        "from sklearn.linear_model import LogisticRegression\n",
        "from azureml.core.model import Model\n",
        "\n",
        "def init():\n",
        "    global model\n",
        "    model_path = Model.get_model_path('final_mod_v1.pkl')\n",
        "    model = joblib.load(model_path)\n",
        "\n",
        "def run(raw_data):\n",
        "    data = np.array(json.loads(raw_data)[\"data\"])\n",
        "    result = model.predict(data)\n",
        "    return json.dumps(result.tolist())"
      ]
    },
    {
      "cell_type": "markdown",
      "id": "9aafa1c7",
      "metadata": {
        "id": "9aafa1c7"
      },
      "source": [
        "# Create container image"
      ]
    },
    {
      "cell_type": "code",
      "execution_count": null,
      "id": "188768b5",
      "metadata": {
        "id": "188768b5",
        "outputId": "35adb5f0-2741-403e-853c-9ce250122877"
      },
      "outputs": [
        {
          "name": "stderr",
          "output_type": "stream",
          "text": [
            "/tmp/ipykernel_29648/57266882.py:2: DeprecationWarning: ContainerImage class has been deprecated and will be removed in a future release. Please migrate to using Environments. https://docs.microsoft.com/en-us/azure/machine-learning/how-to-use-environments\n",
            "  image_config = ContainerImage.image_configuration(execution_script=\"score.py\",\n"
          ]
        }
      ],
      "source": [
        "from azureml.core.image import ContainerImage\n",
        "image_config = ContainerImage.image_configuration(execution_script=\"score.py\",\n",
        "                                                 runtime = \"python\",\n",
        "                                                 conda_file = \"churnenv.yml\")"
      ]
    },
    {
      "cell_type": "code",
      "execution_count": null,
      "id": "2fb00632",
      "metadata": {
        "id": "2fb00632",
        "outputId": "b405d21d-cfaa-481b-a0d5-43edd2097511"
      },
      "outputs": [
        {
          "name": "stderr",
          "output_type": "stream",
          "text": [
            "/tmp/ipykernel_29648/529200940.py:1: DeprecationWarning: Image class has been deprecated and will be removed in a future release. Please migrate to using Environments. https://docs.microsoft.com/en-us/azure/machine-learning/how-to-use-environments\n",
            "  image = ContainerImage.create(name = \"churn-image\",\n"
          ]
        },
        {
          "name": "stdout",
          "output_type": "stream",
          "text": [
            "Creating image\n",
            "\n"
          ]
        },
        {
          "name": "stderr",
          "output_type": "stream",
          "text": [
            "Image creation polling reached non-successful terminal state, current state: Failed\n",
            "Error response from server:\n",
            "StatusCode: 500\n",
            "Message: An internal server error occurred. Please try again. If the problem persists, contact support\n",
            "\n"
          ]
        },
        {
          "name": "stdout",
          "output_type": "stream",
          "text": [
            "More information about this error is available here: None\n",
            "For more help with troubleshooting, see https://aka.ms/debugimage\n"
          ]
        },
        {
          "ename": "WebserviceException",
          "evalue": "WebserviceException:\n\tMessage: Image creation polling reached non-successful terminal state, current state: Failed\nError response from server:\nStatusCode: 500\nMessage: An internal server error occurred. Please try again. If the problem persists, contact support\n\tInnerException None\n\tErrorResponse \n{\n    \"error\": {\n        \"message\": \"Image creation polling reached non-successful terminal state, current state: Failed\\nError response from server:\\nStatusCode: 500\\nMessage: An internal server error occurred. Please try again. If the problem persists, contact support\"\n    }\n}",
          "output_type": "error",
          "traceback": [
            "\u001b[0;31m---------------------------------------------------------------------------\u001b[0m",
            "\u001b[0;31mWebserviceException\u001b[0m                       Traceback (most recent call last)",
            "Cell \u001b[0;32mIn[88], line 6\u001b[0m\n\u001b[1;32m      1\u001b[0m image \u001b[38;5;241m=\u001b[39m ContainerImage\u001b[38;5;241m.\u001b[39mcreate(name \u001b[38;5;241m=\u001b[39m \u001b[38;5;124m\"\u001b[39m\u001b[38;5;124mchurn-image\u001b[39m\u001b[38;5;124m\"\u001b[39m,\n\u001b[1;32m      2\u001b[0m                           models \u001b[38;5;241m=\u001b[39m [model],\n\u001b[1;32m      3\u001b[0m                           image_config \u001b[38;5;241m=\u001b[39m image_config,\n\u001b[1;32m      4\u001b[0m                           workspace \u001b[38;5;241m=\u001b[39m ws\n\u001b[1;32m      5\u001b[0m                           )\n\u001b[0;32m----> 6\u001b[0m \u001b[43mimage\u001b[49m\u001b[38;5;241;43m.\u001b[39;49m\u001b[43mwait_for_creation\u001b[49m\u001b[43m(\u001b[49m\u001b[43m)\u001b[49m\n",
            "File \u001b[0;32m/anaconda/envs/azureml_py38/lib/python3.8/site-packages/azureml/core/image/image.py:451\u001b[0m, in \u001b[0;36mImage.wait_for_creation\u001b[0;34m(self, show_output)\u001b[0m\n\u001b[1;32m    447\u001b[0m         error_response \u001b[38;5;241m=\u001b[39m error\n\u001b[1;32m    449\u001b[0m     \u001b[38;5;28mprint\u001b[39m(\u001b[38;5;124m'\u001b[39m\u001b[38;5;124mMore information about this error is available here: \u001b[39m\u001b[38;5;132;01m{}\u001b[39;00m\u001b[38;5;130;01m\\n\u001b[39;00m\u001b[38;5;124m'\u001b[39m\n\u001b[1;32m    450\u001b[0m           \u001b[38;5;124m'\u001b[39m\u001b[38;5;124mFor more help with troubleshooting, see https://aka.ms/debugimage\u001b[39m\u001b[38;5;124m'\u001b[39m\u001b[38;5;241m.\u001b[39mformat(\u001b[38;5;28mself\u001b[39m\u001b[38;5;241m.\u001b[39mimage_build_log_uri))\n\u001b[0;32m--> 451\u001b[0m     \u001b[38;5;28;01mraise\u001b[39;00m WebserviceException(\u001b[38;5;124m'\u001b[39m\u001b[38;5;124mImage creation polling reached non-successful terminal state, \u001b[39m\u001b[38;5;124m'\u001b[39m\n\u001b[1;32m    452\u001b[0m                               \u001b[38;5;124m'\u001b[39m\u001b[38;5;124mcurrent state: \u001b[39m\u001b[38;5;132;01m{}\u001b[39;00m\u001b[38;5;130;01m\\n\u001b[39;00m\u001b[38;5;124m'\u001b[39m\n\u001b[1;32m    453\u001b[0m                               \u001b[38;5;124m'\u001b[39m\u001b[38;5;124mError response from server:\u001b[39m\u001b[38;5;130;01m\\n\u001b[39;00m\u001b[38;5;124m'\u001b[39m\n\u001b[1;32m    454\u001b[0m                               \u001b[38;5;124m'\u001b[39m\u001b[38;5;132;01m{}\u001b[39;00m\u001b[38;5;124m'\u001b[39m\u001b[38;5;241m.\u001b[39mformat(\u001b[38;5;28mself\u001b[39m\u001b[38;5;241m.\u001b[39mcreation_state, error_response), logger\u001b[38;5;241m=\u001b[39mmodule_logger)\n\u001b[1;32m    456\u001b[0m \u001b[38;5;28mprint\u001b[39m(\u001b[38;5;124m'\u001b[39m\u001b[38;5;124mImage creation operation finished for image \u001b[39m\u001b[38;5;132;01m{}\u001b[39;00m\u001b[38;5;124m, operation \u001b[39m\u001b[38;5;124m\"\u001b[39m\u001b[38;5;132;01m{}\u001b[39;00m\u001b[38;5;124m\"\u001b[39m\u001b[38;5;124m'\u001b[39m\u001b[38;5;241m.\u001b[39mformat(\u001b[38;5;28mself\u001b[39m\u001b[38;5;241m.\u001b[39mid, operation_state))\n",
            "\u001b[0;31mWebserviceException\u001b[0m: WebserviceException:\n\tMessage: Image creation polling reached non-successful terminal state, current state: Failed\nError response from server:\nStatusCode: 500\nMessage: An internal server error occurred. Please try again. If the problem persists, contact support\n\tInnerException None\n\tErrorResponse \n{\n    \"error\": {\n        \"message\": \"Image creation polling reached non-successful terminal state, current state: Failed\\nError response from server:\\nStatusCode: 500\\nMessage: An internal server error occurred. Please try again. If the problem persists, contact support\"\n    }\n}"
          ]
        }
      ],
      "source": [
        "image = ContainerImage.create(name = \"churn-image\",\n",
        "                          models = [model],\n",
        "                          image_config = image_config,\n",
        "                          workspace = ws\n",
        "                          )\n",
        "image.wait_for_creation()"
      ]
    },
    {
      "cell_type": "markdown",
      "id": "8fed2cfa",
      "metadata": {
        "id": "8fed2cfa"
      },
      "source": [
        "# Create a web service from container image"
      ]
    },
    {
      "cell_type": "code",
      "execution_count": null,
      "id": "26572b64",
      "metadata": {
        "id": "26572b64",
        "outputId": "942b6b23-8d7f-4853-85b3-51877c474128"
      },
      "outputs": [
        {
          "name": "stderr",
          "output_type": "stream",
          "text": [
            "/tmp/ipykernel_29648/2652070505.py:2: DeprecationWarning: deploy_from_image has been deprecated and will be removed in a future release. Please migrate to using Environments. https://docs.microsoft.com/en-us/azure/machine-learning/how-to-use-environments\n",
            "  service = Webservice.deploy_from_image(deployment_config = aciconfig,\n",
            "Unable to create service with image churn-image:3 in non \"Succeeded\" creation state.\n",
            "\n"
          ]
        },
        {
          "ename": "WebserviceException",
          "evalue": "WebserviceException:\n\tMessage: Unable to create service with image churn-image:3 in non \"Succeeded\" creation state.\n\tInnerException None\n\tErrorResponse \n{\n    \"error\": {\n        \"message\": \"Unable to create service with image churn-image:3 in non \\\"Succeeded\\\" creation state.\"\n    }\n}",
          "output_type": "error",
          "traceback": [
            "\u001b[0;31m---------------------------------------------------------------------------\u001b[0m",
            "\u001b[0;31mWebserviceException\u001b[0m                       Traceback (most recent call last)",
            "Cell \u001b[0;32mIn[84], line 2\u001b[0m\n\u001b[1;32m      1\u001b[0m \u001b[38;5;28;01mfrom\u001b[39;00m \u001b[38;5;21;01mazureml\u001b[39;00m\u001b[38;5;21;01m.\u001b[39;00m\u001b[38;5;21;01mcore\u001b[39;00m\u001b[38;5;21;01m.\u001b[39;00m\u001b[38;5;21;01mwebservice\u001b[39;00m \u001b[38;5;28;01mimport\u001b[39;00m Webservice\n\u001b[0;32m----> 2\u001b[0m service \u001b[38;5;241m=\u001b[39m \u001b[43mWebservice\u001b[49m\u001b[38;5;241;43m.\u001b[39;49m\u001b[43mdeploy_from_image\u001b[49m\u001b[43m(\u001b[49m\u001b[43mdeployment_config\u001b[49m\u001b[43m \u001b[49m\u001b[38;5;241;43m=\u001b[39;49m\u001b[43m \u001b[49m\u001b[43maciconfig\u001b[49m\u001b[43m,\u001b[49m\n\u001b[1;32m      3\u001b[0m \u001b[43m                                        \u001b[49m\u001b[43mimage\u001b[49m\u001b[43m \u001b[49m\u001b[38;5;241;43m=\u001b[39;49m\u001b[43m \u001b[49m\u001b[43mimage\u001b[49m\u001b[43m,\u001b[49m\n\u001b[1;32m      4\u001b[0m \u001b[43m                                        \u001b[49m\u001b[43mname\u001b[49m\u001b[43m \u001b[49m\u001b[38;5;241;43m=\u001b[39;49m\u001b[43m \u001b[49m\u001b[38;5;124;43m'\u001b[39;49m\u001b[38;5;124;43mchurn-service\u001b[39;49m\u001b[38;5;124;43m'\u001b[39;49m\u001b[43m,\u001b[49m\n\u001b[1;32m      5\u001b[0m \u001b[43m                                        \u001b[49m\u001b[43mworkspace\u001b[49m\u001b[43m \u001b[49m\u001b[38;5;241;43m=\u001b[39;49m\u001b[43m \u001b[49m\u001b[43mws\u001b[49m\u001b[43m)\u001b[49m\n",
            "File \u001b[0;32m/anaconda/envs/azureml_py38/lib/python3.8/site-packages/azureml/core/webservice/webservice.py:505\u001b[0m, in \u001b[0;36mWebservice.deploy_from_image\u001b[0;34m(workspace, name, image, deployment_config, deployment_target, overwrite)\u001b[0m\n\u001b[1;32m    503\u001b[0m             \u001b[38;5;28;01mif\u001b[39;00m child\u001b[38;5;241m.\u001b[39m_webservice_type \u001b[38;5;241m==\u001b[39m ACI_WEBSERVICE_TYPE:\n\u001b[1;32m    504\u001b[0m                 \u001b[38;5;28;01mreturn\u001b[39;00m child\u001b[38;5;241m.\u001b[39m_deploy(workspace, name, image, deployment_config, overwrite)\n\u001b[0;32m--> 505\u001b[0m     \u001b[38;5;28;01mreturn\u001b[39;00m \u001b[43mdeployment_config\u001b[49m\u001b[38;5;241;43m.\u001b[39;49m\u001b[43m_webservice_type\u001b[49m\u001b[38;5;241;43m.\u001b[39;49m\u001b[43m_deploy\u001b[49m\u001b[43m(\u001b[49m\u001b[43mworkspace\u001b[49m\u001b[43m,\u001b[49m\u001b[43m \u001b[49m\u001b[43mname\u001b[49m\u001b[43m,\u001b[49m\u001b[43m \u001b[49m\u001b[43mimage\u001b[49m\u001b[43m,\u001b[49m\u001b[43m \u001b[49m\u001b[43mdeployment_config\u001b[49m\u001b[43m,\u001b[49m\n\u001b[1;32m    506\u001b[0m \u001b[43m                                                      \u001b[49m\u001b[43moverwrite\u001b[49m\u001b[38;5;241;43m=\u001b[39;49m\u001b[43moverwrite\u001b[49m\u001b[43m)\u001b[49m\n\u001b[1;32m    508\u001b[0m \u001b[38;5;28;01melse\u001b[39;00m:\n\u001b[1;32m    509\u001b[0m     \u001b[38;5;28;01mif\u001b[39;00m deployment_config \u001b[38;5;129;01mis\u001b[39;00m \u001b[38;5;28;01mNone\u001b[39;00m:\n",
            "File \u001b[0;32m/anaconda/envs/azureml_py38/lib/python3.8/site-packages/azureml/core/webservice/aci.py:286\u001b[0m, in \u001b[0;36mAciWebservice._deploy\u001b[0;34m(workspace, name, image, deployment_config, overwrite)\u001b[0m\n\u001b[1;32m    282\u001b[0m \u001b[38;5;28;01melif\u001b[39;00m \u001b[38;5;129;01mnot\u001b[39;00m \u001b[38;5;28misinstance\u001b[39m(deployment_config, AciServiceDeploymentConfiguration):\n\u001b[1;32m    283\u001b[0m     \u001b[38;5;28;01mraise\u001b[39;00m WebserviceException(\u001b[38;5;124m'\u001b[39m\u001b[38;5;124mError, provided deployment configuration must be of type \u001b[39m\u001b[38;5;124m'\u001b[39m\n\u001b[1;32m    284\u001b[0m                               \u001b[38;5;124m'\u001b[39m\u001b[38;5;124mAciServiceDeploymentConfiguration in order to deploy an ACI service.\u001b[39m\u001b[38;5;124m'\u001b[39m,\n\u001b[1;32m    285\u001b[0m                               logger\u001b[38;5;241m=\u001b[39mmodule_logger)\n\u001b[0;32m--> 286\u001b[0m \u001b[43mdeployment_config\u001b[49m\u001b[38;5;241;43m.\u001b[39;49m\u001b[43mvalidate_image\u001b[49m\u001b[43m(\u001b[49m\u001b[43mimage\u001b[49m\u001b[43m)\u001b[49m\n\u001b[1;32m    287\u001b[0m create_payload \u001b[38;5;241m=\u001b[39m AciWebservice\u001b[38;5;241m.\u001b[39m_build_create_payload(name, image, deployment_config, overwrite)\n\u001b[1;32m    288\u001b[0m \u001b[38;5;28;01mreturn\u001b[39;00m Webservice\u001b[38;5;241m.\u001b[39m_deploy_webservice(workspace, name, create_payload, overwrite, AciWebservice)\n",
            "File \u001b[0;32m/anaconda/envs/azureml_py38/lib/python3.8/site-packages/azureml/core/webservice/webservice.py:1926\u001b[0m, in \u001b[0;36mWebserviceDeploymentConfiguration.validate_image\u001b[0;34m(cls, image)\u001b[0m\n\u001b[1;32m   1924\u001b[0m     \u001b[38;5;28;01mraise\u001b[39;00m WebserviceException(\u001b[38;5;124m\"\u001b[39m\u001b[38;5;124mImage is None\u001b[39m\u001b[38;5;124m\"\u001b[39m, logger\u001b[38;5;241m=\u001b[39mmodule_logger)\n\u001b[1;32m   1925\u001b[0m \u001b[38;5;28;01mif\u001b[39;00m image\u001b[38;5;241m.\u001b[39mcreation_state \u001b[38;5;241m!=\u001b[39m \u001b[38;5;124m'\u001b[39m\u001b[38;5;124mSucceeded\u001b[39m\u001b[38;5;124m'\u001b[39m:\n\u001b[0;32m-> 1926\u001b[0m     \u001b[38;5;28;01mraise\u001b[39;00m WebserviceException(\u001b[38;5;124m'\u001b[39m\u001b[38;5;124mUnable to create service with image \u001b[39m\u001b[38;5;132;01m{}\u001b[39;00m\u001b[38;5;124m in non \u001b[39m\u001b[38;5;124m\"\u001b[39m\u001b[38;5;124mSucceeded\u001b[39m\u001b[38;5;124m\"\u001b[39m\u001b[38;5;124m \u001b[39m\u001b[38;5;124m'\u001b[39m\n\u001b[1;32m   1927\u001b[0m                               \u001b[38;5;124m'\u001b[39m\u001b[38;5;124mcreation state.\u001b[39m\u001b[38;5;124m'\u001b[39m\u001b[38;5;241m.\u001b[39mformat(image\u001b[38;5;241m.\u001b[39mid), logger\u001b[38;5;241m=\u001b[39mmodule_logger)\n\u001b[1;32m   1928\u001b[0m \u001b[38;5;28;01mif\u001b[39;00m image\u001b[38;5;241m.\u001b[39mimage_flavor \u001b[38;5;129;01mnot\u001b[39;00m \u001b[38;5;129;01min\u001b[39;00m CLOUD_DEPLOYABLE_IMAGE_FLAVORS:\n\u001b[1;32m   1929\u001b[0m     \u001b[38;5;28;01mraise\u001b[39;00m WebserviceException(\u001b[38;5;124m'\u001b[39m\u001b[38;5;124mDeployment of \u001b[39m\u001b[38;5;132;01m{}\u001b[39;00m\u001b[38;5;124m images is not supported\u001b[39m\u001b[38;5;124m'\u001b[39m\u001b[38;5;241m.\u001b[39mformat(image\u001b[38;5;241m.\u001b[39mimage_flavor),\n\u001b[1;32m   1930\u001b[0m                               logger\u001b[38;5;241m=\u001b[39mmodule_logger)\n",
            "\u001b[0;31mWebserviceException\u001b[0m: WebserviceException:\n\tMessage: Unable to create service with image churn-image:3 in non \"Succeeded\" creation state.\n\tInnerException None\n\tErrorResponse \n{\n    \"error\": {\n        \"message\": \"Unable to create service with image churn-image:3 in non \\\"Succeeded\\\" creation state.\"\n    }\n}"
          ]
        }
      ],
      "source": [
        "from azureml.core.webservice import Webservice\n",
        "service = Webservice.deploy_from_image(deployment_config = aciconfig,\n",
        "                                        image = image,\n",
        "                                        name = 'churn-service',\n",
        "                                        workspace = ws)"
      ]
    }
  ],
  "metadata": {
    "kernelspec": {
      "display_name": "Python 3.8 - AzureML",
      "language": "python",
      "name": "python38-azureml"
    },
    "language_info": {
      "codemirror_mode": {
        "name": "ipython",
        "version": 3
      },
      "file_extension": ".py",
      "mimetype": "text/x-python",
      "name": "python",
      "nbconvert_exporter": "python",
      "pygments_lexer": "ipython3",
      "version": "3.8.5"
    },
    "colab": {
      "provenance": []
    }
  },
  "nbformat": 4,
  "nbformat_minor": 5
}